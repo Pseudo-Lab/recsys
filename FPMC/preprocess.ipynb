{
  "nbformat": 4,
  "nbformat_minor": 0,
  "metadata": {
    "colab": {
      "provenance": []
    },
    "kernelspec": {
      "name": "python3",
      "display_name": "Python 3"
    },
    "language_info": {
      "name": "python"
    }
  },
  "cells": [
    {
      "cell_type": "markdown",
      "source": [
        "전처리\n",
        "1. 6번 이상 평가(=시청)된 item 데이터만 남기기\n",
        "2. item id remapping\n",
        "    - 학습을 위해 기존 item ID를 1부터 재할당한다.\n",
        "    - 242: 1,302: 2, 377: 3, 51: 4, 346: 5, 474: 6, ... ,\n",
        "    - 예외 케이스는 0으로 할당한다.\n",
        "3. user id remappding\n",
        "4. get user session\n",
        "    - user1:      [1, 526, 378, 520, 431, 818, 381, 330, 547, 84..."
      ],
      "metadata": {
        "id": "na0IoIyaopoG"
      }
    },
    {
      "cell_type": "code",
      "execution_count": null,
      "metadata": {
        "id": "TKMOmBrvl1kA"
      },
      "outputs": [],
      "source": [
        "import pandas as pd"
      ]
    },
    {
      "cell_type": "code",
      "source": [
        "# 데이터 불러오기\n",
        "file_path = '/content/drive/MyDrive/논문 구현/FPMC/u.data'\n",
        "names = ['user', 'item', 'rating', 'timestamps']\n",
        "data = pd.read_csv(file_path, header=None, sep='\\t', names=names)"
      ],
      "metadata": {
        "id": "9fRP8c0l0Bci"
      },
      "execution_count": null,
      "outputs": []
    },
    {
      "cell_type": "code",
      "source": [
        "# 6번 이상 평가(=시청)된 item 데이터만 남기기 위한 전처리 작업\n",
        "p = data.groupby('item')['user'].count().reset_index().rename(columns={'user':'item_count'}) # 각 item이 몇 번 평가(=시청)되었는지 count함.\n",
        "data = pd.merge(data, p, how='left', on='item') # count한 결과를 원본 data와 결합.\n",
        "data = data[data['item_count'] > 5].drop(['item_count'], axis=1) # 6번 이상 평가(=시청)된 데이터만 남김. 그리고 item_count 열은 이제 필요없으므로 drop함."
      ],
      "metadata": {
        "id": "ajsQoa9WowHi"
      },
      "execution_count": null,
      "outputs": []
    },
    {
      "cell_type": "code",
      "source": [
        "# item id remapping 하기\n",
        "item_unique = data['item'].unique().tolist() # unique한 item list 생성\n",
        "item_map = dict(zip(item_unique, range(1, len(item_unique) + 1)))\n",
        "item_map[-1] = 0 # 예외 케이스는 0으로 할당함. 예를 들어, 데이터셋에 결측치를 -1로 표기하거나, 특정 조건을 만족하지 않는 아이템을 -1로 표기하는 경우 등이 있을 수 있다. 이렇게 함으로써 특별한 아이템을 처리하거나 예외를 다룰 수 있다.\n",
        "all_item_count = len(item_map)\n",
        "data['item'] = data['item'].apply(lambda x: item_map[x]) # remapping"
      ],
      "metadata": {
        "id": "94_n9QFGrl6T"
      },
      "execution_count": null,
      "outputs": []
    },
    {
      "cell_type": "code",
      "source": [
        "# user id remapping 하기\n",
        "user_unique = data['user'].unique().tolist()\n",
        "user_map = dict(zip(user_unique, range(1, len(user_unique) + 1)))\n",
        "user_map[-1] = 0\n",
        "all_user_count = len(user_map)\n",
        "data['user'] = data['user'].apply(lambda x: user_map[x])"
      ],
      "metadata": {
        "id": "6V0fQzkDzr61"
      },
      "execution_count": null,
      "outputs": []
    },
    {
      "cell_type": "code",
      "source": [
        "# get user session\n",
        "data = data.sort_values(by=['user', 'timestamps']).reset_index(drop=True) # user, timestamps 별로 정렬함\n",
        "user_sessions = data.groupby('user')['item'].apply(lambda x: x.tolist()).reset_index().rename(columns={'item': 'item_list'}) # user 별로 item sequence를 얻는다."
      ],
      "metadata": {
        "id": "EpKdlQtm067L"
      },
      "execution_count": null,
      "outputs": []
    },
    {
      "cell_type": "code",
      "source": [
        "train_users = []\n",
        "train_seqs = []\n",
        "train_targets = []\n",
        "\n",
        "test_users = []\n",
        "test_seqs = []\n",
        "test_targets = []\n",
        "\n",
        "item_usr_clicked = {}"
      ],
      "metadata": {
        "id": "H2POImoW1vQX"
      },
      "execution_count": null,
      "outputs": []
    },
    {
      "cell_type": "code",
      "source": [
        "for index, row in user_sessions.iterrows():\n",
        "    user = row['user']\n",
        "    items = row['item_list']\n",
        "\n",
        "    test_item = items[-1 * 1:] # len_pred: 테스트에 사용할 아이템의 길이를 나타내는 변수\n",
        "    test_seq = items[-1 * (1 + 5): -1 * 1] # len_seq: 시퀀스의 길이를 나타내는 변수\n",
        "    \n",
        "    test_users.append(user) # 왜 전체 user가 다 test user로 들어가지???\n",
        "    test_seqs.append(test_seq)\n",
        "    test_targets.append(test_item)\n",
        "\n",
        "    train_build_items = items[:-1 * 1]\n",
        "\n",
        "    item_usr_clicked[user] = train_build_items\n",
        "\n",
        "    for i in range(5, len(train_build_items) - 1 + 1):\n",
        "        item = train_build_items[i: i + 1] # len_tag:\n",
        "        seq = train_build_items[max(0, i - 5): i]\n"
      ],
      "metadata": {
        "id": "qvykTfxE4K6x"
      },
      "execution_count": null,
      "outputs": []
    },
    {
      "cell_type": "code",
      "source": [
        "user_sessions.head()"
      ],
      "metadata": {
        "colab": {
          "base_uri": "https://localhost:8080/",
          "height": 206
        },
        "id": "FMk7kWOqAOQ7",
        "outputId": "00b7cc3f-8fdc-452a-9422-8767d3ae85fc"
      },
      "execution_count": null,
      "outputs": [
        {
          "output_type": "execute_result",
          "data": {
            "text/plain": [
              "   user                                          item_list\n",
              "0     1  [1, 290, 489, 381, 738, 464, 520, 11, 661, 100...\n",
              "1     2  [61, 643, 52, 205, 365, 299, 154, 403, 50, 785...\n",
              "2     3  [158, 96, 575, 188, 892, 322, 308, 330, 222, 8...\n",
              "3     4  [140, 509, 495, 158, 96, 687, 404, 719, 1016, ...\n",
              "4     5  [706, 326, 61, 158, 290, 185, 5, 96, 262, 99, ..."
            ],
            "text/html": [
              "\n",
              "  <div id=\"df-1422834d-7e21-494f-ace2-2fc41b61129f\">\n",
              "    <div class=\"colab-df-container\">\n",
              "      <div>\n",
              "<style scoped>\n",
              "    .dataframe tbody tr th:only-of-type {\n",
              "        vertical-align: middle;\n",
              "    }\n",
              "\n",
              "    .dataframe tbody tr th {\n",
              "        vertical-align: top;\n",
              "    }\n",
              "\n",
              "    .dataframe thead th {\n",
              "        text-align: right;\n",
              "    }\n",
              "</style>\n",
              "<table border=\"1\" class=\"dataframe\">\n",
              "  <thead>\n",
              "    <tr style=\"text-align: right;\">\n",
              "      <th></th>\n",
              "      <th>user</th>\n",
              "      <th>item_list</th>\n",
              "    </tr>\n",
              "  </thead>\n",
              "  <tbody>\n",
              "    <tr>\n",
              "      <th>0</th>\n",
              "      <td>1</td>\n",
              "      <td>[1, 290, 489, 381, 738, 464, 520, 11, 661, 100...</td>\n",
              "    </tr>\n",
              "    <tr>\n",
              "      <th>1</th>\n",
              "      <td>2</td>\n",
              "      <td>[61, 643, 52, 205, 365, 299, 154, 403, 50, 785...</td>\n",
              "    </tr>\n",
              "    <tr>\n",
              "      <th>2</th>\n",
              "      <td>3</td>\n",
              "      <td>[158, 96, 575, 188, 892, 322, 308, 330, 222, 8...</td>\n",
              "    </tr>\n",
              "    <tr>\n",
              "      <th>3</th>\n",
              "      <td>4</td>\n",
              "      <td>[140, 509, 495, 158, 96, 687, 404, 719, 1016, ...</td>\n",
              "    </tr>\n",
              "    <tr>\n",
              "      <th>4</th>\n",
              "      <td>5</td>\n",
              "      <td>[706, 326, 61, 158, 290, 185, 5, 96, 262, 99, ...</td>\n",
              "    </tr>\n",
              "  </tbody>\n",
              "</table>\n",
              "</div>\n",
              "      <button class=\"colab-df-convert\" onclick=\"convertToInteractive('df-1422834d-7e21-494f-ace2-2fc41b61129f')\"\n",
              "              title=\"Convert this dataframe to an interactive table.\"\n",
              "              style=\"display:none;\">\n",
              "        \n",
              "  <svg xmlns=\"http://www.w3.org/2000/svg\" height=\"24px\"viewBox=\"0 0 24 24\"\n",
              "       width=\"24px\">\n",
              "    <path d=\"M0 0h24v24H0V0z\" fill=\"none\"/>\n",
              "    <path d=\"M18.56 5.44l.94 2.06.94-2.06 2.06-.94-2.06-.94-.94-2.06-.94 2.06-2.06.94zm-11 1L8.5 8.5l.94-2.06 2.06-.94-2.06-.94L8.5 2.5l-.94 2.06-2.06.94zm10 10l.94 2.06.94-2.06 2.06-.94-2.06-.94-.94-2.06-.94 2.06-2.06.94z\"/><path d=\"M17.41 7.96l-1.37-1.37c-.4-.4-.92-.59-1.43-.59-.52 0-1.04.2-1.43.59L10.3 9.45l-7.72 7.72c-.78.78-.78 2.05 0 2.83L4 21.41c.39.39.9.59 1.41.59.51 0 1.02-.2 1.41-.59l7.78-7.78 2.81-2.81c.8-.78.8-2.07 0-2.86zM5.41 20L4 18.59l7.72-7.72 1.47 1.35L5.41 20z\"/>\n",
              "  </svg>\n",
              "      </button>\n",
              "      \n",
              "  <style>\n",
              "    .colab-df-container {\n",
              "      display:flex;\n",
              "      flex-wrap:wrap;\n",
              "      gap: 12px;\n",
              "    }\n",
              "\n",
              "    .colab-df-convert {\n",
              "      background-color: #E8F0FE;\n",
              "      border: none;\n",
              "      border-radius: 50%;\n",
              "      cursor: pointer;\n",
              "      display: none;\n",
              "      fill: #1967D2;\n",
              "      height: 32px;\n",
              "      padding: 0 0 0 0;\n",
              "      width: 32px;\n",
              "    }\n",
              "\n",
              "    .colab-df-convert:hover {\n",
              "      background-color: #E2EBFA;\n",
              "      box-shadow: 0px 1px 2px rgba(60, 64, 67, 0.3), 0px 1px 3px 1px rgba(60, 64, 67, 0.15);\n",
              "      fill: #174EA6;\n",
              "    }\n",
              "\n",
              "    [theme=dark] .colab-df-convert {\n",
              "      background-color: #3B4455;\n",
              "      fill: #D2E3FC;\n",
              "    }\n",
              "\n",
              "    [theme=dark] .colab-df-convert:hover {\n",
              "      background-color: #434B5C;\n",
              "      box-shadow: 0px 1px 3px 1px rgba(0, 0, 0, 0.15);\n",
              "      filter: drop-shadow(0px 1px 2px rgba(0, 0, 0, 0.3));\n",
              "      fill: #FFFFFF;\n",
              "    }\n",
              "  </style>\n",
              "\n",
              "      <script>\n",
              "        const buttonEl =\n",
              "          document.querySelector('#df-1422834d-7e21-494f-ace2-2fc41b61129f button.colab-df-convert');\n",
              "        buttonEl.style.display =\n",
              "          google.colab.kernel.accessAllowed ? 'block' : 'none';\n",
              "\n",
              "        async function convertToInteractive(key) {\n",
              "          const element = document.querySelector('#df-1422834d-7e21-494f-ace2-2fc41b61129f');\n",
              "          const dataTable =\n",
              "            await google.colab.kernel.invokeFunction('convertToInteractive',\n",
              "                                                     [key], {});\n",
              "          if (!dataTable) return;\n",
              "\n",
              "          const docLinkHtml = 'Like what you see? Visit the ' +\n",
              "            '<a target=\"_blank\" href=https://colab.research.google.com/notebooks/data_table.ipynb>data table notebook</a>'\n",
              "            + ' to learn more about interactive tables.';\n",
              "          element.innerHTML = '';\n",
              "          dataTable['output_type'] = 'display_data';\n",
              "          await google.colab.output.renderOutput(dataTable, element);\n",
              "          const docLink = document.createElement('div');\n",
              "          docLink.innerHTML = docLinkHtml;\n",
              "          element.appendChild(docLink);\n",
              "        }\n",
              "      </script>\n",
              "    </div>\n",
              "  </div>\n",
              "  "
            ]
          },
          "metadata": {},
          "execution_count": 75
        }
      ]
    },
    {
      "cell_type": "code",
      "source": [
        "for index, row in user_sessions.iterrows():\n",
        "    print(index)\n",
        "    print()\n",
        "    print(row)\n",
        "    break"
      ],
      "metadata": {
        "colab": {
          "base_uri": "https://localhost:8080/"
        },
        "id": "3A37m6mo_8Tv",
        "outputId": "e2618855-6faa-4b03-efc3-e9117d19d28b"
      },
      "execution_count": null,
      "outputs": [
        {
          "output_type": "stream",
          "name": "stdout",
          "text": [
            "0\n",
            "\n",
            "user                                                         1\n",
            "item_list    [1, 290, 489, 381, 738, 464, 520, 11, 661, 100...\n",
            "Name: 0, dtype: object\n"
          ]
        }
      ]
    },
    {
      "cell_type": "code",
      "source": [],
      "metadata": {
        "id": "vsaiPenGCj2i"
      },
      "execution_count": null,
      "outputs": []
    }
  ]
}