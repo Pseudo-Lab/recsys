{
  "cells": [
    {
      "cell_type": "code",
      "execution_count": null,
      "metadata": {
        "id": "hKE5nzqY2SrP"
      },
      "outputs": [],
      "source": [
        "from tqdm import tqdm\n",
        "import os\n",
        "\n",
        "import numpy as np\n",
        "import pandas as pd\n",
        "\n",
        "import scipy.sparse  as sp\n",
        "\n",
        "from sklearn.model_selection import train_test_split\n",
        "\n",
        "import torch\n",
        "from torch import nn, optim\n",
        "from torch.utils.data import Dataset, DataLoader"
      ]
    },
    {
      "cell_type": "markdown",
      "source": [
        "모델 하이퍼파라미터\n",
        "\n",
        "\n",
        "\n",
        "layer : 3층, batch size : 512"
      ],
      "metadata": {
        "id": "rIWjwpgu47d-"
      }
    },
    {
      "cell_type": "code",
      "execution_count": null,
      "metadata": {
        "id": "IXLeESD82SrR"
      },
      "outputs": [],
      "source": [
        "class args:\n",
        "    seed = 42\n",
        "    num_layers = 3\n",
        "    batch_size= 512\n",
        "    device = 'cuda' if torch.cuda.is_available() else 'cpu'\n",
        "    SAVE_PATH = 'Parameters'"
      ]
    },
    {
      "cell_type": "code",
      "execution_count": null,
      "metadata": {
        "colab": {
          "base_uri": "https://localhost:8080/"
        },
        "id": "Wh6jK1_92SrS",
        "outputId": "93751932-6d16-4fdd-969f-31b8d79297db"
      },
      "outputs": [
        {
          "output_type": "stream",
          "name": "stderr",
          "text": [
            "<ipython-input-3-e0068a5e4b0c>:1: ParserWarning: Falling back to the 'python' engine because the 'c' engine does not support regex separators (separators > 1 char and different from '\\s+' are interpreted as regex); you can avoid this warning by specifying engine='python'.\n",
            "  d_set = pd.read_csv('ratings.dat', sep='::', names=['user_id','business_id','stars','ts'], encoding='latin-1',header=None)\n"
          ]
        }
      ],
      "source": [
        "d_set = pd.read_csv('ratings.dat', sep='::', names=['user_id','business_id','stars','ts'], encoding='latin-1',header=None)\n",
        "d_set = d_set.drop(columns=['ts'])"
      ]
    },
    {
      "cell_type": "code",
      "execution_count": null,
      "metadata": {
        "id": "Qekorfxd2SrS"
      },
      "outputs": [],
      "source": [
        "d_train, d_test = train_test_split(d_set, train_size=0.6, random_state=args.seed)\n",
        "d_valid, d_test = train_test_split(d_test, train_size=0.5, random_state=args.seed)"
      ]
    },
    {
      "cell_type": "code",
      "execution_count": null,
      "metadata": {
        "id": "cL-lRSH-2SrS"
      },
      "outputs": [],
      "source": [
        "d_train = d_train.astype({'user_id':'category', 'business_id':'category'})\n",
        "d_valid = d_valid.astype({'user_id':'category', 'business_id':'category'})\n",
        "d_test = d_test.astype({'user_id':'category', 'business_id':'category'})"
      ]
    },
    {
      "cell_type": "code",
      "execution_count": null,
      "metadata": {
        "id": "v4bkMkyU2SrS"
      },
      "outputs": [],
      "source": [
        "u_cat = d_train.user_id.cat.categories\n",
        "b_cat = d_train.business_id.cat.categories"
      ]
    },
    {
      "cell_type": "markdown",
      "source": [
        "set_categories 통해 train data에 있는 카테고리 valid data에 생성"
      ],
      "metadata": {
        "id": "YjVEW4Yk6xVc"
      }
    },
    {
      "cell_type": "code",
      "execution_count": null,
      "metadata": {
        "id": "nV0x8d3I2SrT"
      },
      "outputs": [],
      "source": [
        "d_valid.user_id = d_valid.user_id.cat.set_categories(u_cat)\n",
        "d_valid.business_id = d_valid.business_id.cat.set_categories(b_cat)\n",
        "\n",
        "d_test.user_id = d_test.user_id.cat.set_categories(u_cat)\n",
        "d_test.business_id = d_test.business_id.cat.set_categories(b_cat)"
      ]
    },
    {
      "cell_type": "markdown",
      "source": [
        "codes 통해 user id와 item id 숫자 변환"
      ],
      "metadata": {
        "id": "TVLV5Drc69zr"
      }
    },
    {
      "cell_type": "code",
      "execution_count": null,
      "metadata": {
        "id": "ZU_w8ycZ2SrT"
      },
      "outputs": [],
      "source": [
        "d_train.user_id = d_train.user_id.cat.codes\n",
        "d_train.business_id = d_train.business_id.cat.codes\n",
        "\n",
        "d_valid.user_id = d_valid.user_id.cat.codes\n",
        "d_valid.business_id = d_valid.business_id.cat.codes\n",
        "\n",
        "d_test.user_id = d_test.user_id.cat.codes\n",
        "d_test.business_id = d_test.business_id.cat.codes"
      ]
    },
    {
      "cell_type": "code",
      "execution_count": null,
      "metadata": {
        "id": "uiJu5gtJ2SrT"
      },
      "outputs": [],
      "source": [
        "d_train = d_train.dropna()\n",
        "d_valid = d_valid.dropna()\n",
        "d_test = d_test.dropna()\n",
        "\n",
        "d_train.reset_index(drop=True, inplace=True)\n",
        "d_valid.reset_index(drop=True, inplace=True)\n",
        "d_test.reset_index(drop=True, inplace=True)"
      ]
    },
    {
      "cell_type": "code",
      "execution_count": null,
      "metadata": {
        "id": "Ay3ZfUww2SrT"
      },
      "outputs": [],
      "source": [
        "d_train = d_train.astype({'user_id': int, 'business_id': int})\n",
        "d_valid = d_valid.astype({'user_id': int, 'business_id': int})\n",
        "d_test = d_test.astype({'user_id': int, 'business_id': int})"
      ]
    },
    {
      "cell_type": "code",
      "execution_count": null,
      "metadata": {
        "id": "ywuPffx-2SrU"
      },
      "outputs": [],
      "source": [
        "args.num_users = d_train.user_id.max() + 1\n",
        "args.num_items = d_train.business_id.max() + 1\n",
        "args.latent_dim = 64\n",
        "args.num_epochs = 50"
      ]
    },
    {
      "cell_type": "markdown",
      "source": [
        "torch.nn.module : PyTorch의 모든 Neural Network의 Base Class\n",
        "\n",
        "nn.Module을 상속받아서 기본적인 기능들을 사용할 수 있게 만들어줌\n",
        "\n",
        "Massage Passing 단계 (Message Construction 및 Message Aggregation)\n",
        "\n",
        "\n",
        "![image.png](data:image/png;base64,iVBORw0KGgoAAAANSUhEUgAAAWcAAAA4CAYAAAAhFzkbAAAZtElEQVR4nO2dfXBTV5bgfxPvc7GtZUsZNiq6BF1o08jpiso7clKoKWRq8VCx6Y5CxY4ThzROaHXT0PGow0DH644XGg8bjxloV7xKIAwqEpxM3BR2CpwPO5WIChZDRA2om3mpYNGJUmBtk0fRVo151S6/qLV/SMay9PyJv4jv7x+M7nvvnnuld+6555577l8lEokEAoFAIJhT3DXbAghmgbiG2j/bQggEgtEQynk+0a8QOdNM9aan2PSGPNvSCASCUfhPsy2AYCaQ8T1eh99owiSpRIXVLBDMeYTlPC+w4T52jDcPeal52DzbwggEgnEglLNAIBDMQYRyFggEgjmIUM4CgUAwBxHKWSAQCOYgQjkLBALBHEQoZ4FAIJiDCOUsEAgEcxChnAUCgWAOIpTzfOMvWvJfTZtdOaaDG0Ganq2l/eo3sG13KvEYQW8VtSejzKtvJa7QubOKprMx3WL1oo+qnW1E1JEf8VciK918ILl9u1O3zIr75T0U3zPDIk01qoxvRz1q5SE8Kw1AhJat1bTdyLhu2Ua8e13EXn+K2ncz1YUV94E9FC+CcFa5hY1NDbgWT28zpgU1wP5NTQQzPpbW1PDaVgtdezZz8GJmYTE733RjI4Y/s1wqoua1LdilMStGPryNetXNoV84MNx2Q+4w1CBNm30Yqhtx52e3Ptq6jed/X0LjrmJMOTr3JwSCO56biQuvPJPY8GJXojez6MKBRHl5eaK8/EDiwtcZZX/+JPFSeXmivLw8ceCCzmP/8Fbip+U/TRz+t6yn3pF89c7zyb745cnEV5mFV1oTz5aXJ8rLn0+c/GP2vTc/fjFRvuGFxMkrA+Ou7+aFA4lnNryY6PpmdN+k6P34xcSGDS8lPrmpU/h1d+LolvLEc8d7dO8Vbg3Bnc/VTo6egpJHnRgzy3IGzTsJKdM6kXLJHfxTx3IJn/VjeGIX7geynjpryEeeovYD/anymNyV6gspN7tMklKWrURuVl/ECJ2RcVbV4Fo6prmcJB6l8w0/PFSGcwa7T70aovOtJuo8VVR5qqhuOEjL+zLKLPlUjKvKKFkQwPd2OLswx4rrcRvRtqMEdL5SoZwFdzgawROtRBe7KLpPp/jbS7ACECF6fXhR7EwHXam/VTXj7b3eydFTDtw/nGOJouIaxAcmdavJbEn+cbkHJaMs/GE7EQBiWbm+tYut+G5WUrFy/I4J7XwrrVdNuIqsk5J1wqgR2us3U/tGN4aVldQ0evE2edlT5cJGgP1bqth/KjozsqSTY6XoByZi73cQ1MkGaVxZjFML0Xo6WzahnAV3Nv0XCJ7VMKywMSE12i/T+nqY3IXJ/yqx3rRCleC/HMXwdBm2BVMo61zleidHT2kpy1mhN70r4lHaXw9S9EwxpnE/UOPCuSDaQge2pVMsqx6p9Ybw93fRWFOBc5nx1kxIMpixrdtCQ9N2LKeep7Y1wihrcNOCOd+BQQsQDOmY7wtsFNgh+mGQTPWsm885du4guw8HUfqNOH5Sg9scwvdKO2FtgN4bGpZHaqh5zET4jSZ85xTQeunFRkW1B9e9887tL5hNPpcJamD7zgiqeaERExAmihIDUguf4eNNBNe4Kf2siea+jHsut+FTKtizahLz8biC/EEbbe/IKDmgqhL2p2vwrB6/aps27r4bE6CgEOsDFgLECBw+iuFpN07vwaxF49iZo3R8dyuNyydSUTfyWQ1slpEHzLhK9JN2jr4TIPofMNCvYnqohponrBNcONSQjzURXLWDQ2tGGZ4NFkqra+jdUU9b/iE2jtWe6zKdbW20X1QAFTXXjrvag3MyC8KLLViB0OcRWJk5kzBgWmqAUDeRPjAvHCrJtpz7gxx9ScG1t4GKxVECr25j8296KPy1F2/TIXY4VcKt9WyrqsX/HTfel714mzw4YiGaX/FnaX+BYDpRrkTQkDAtGuGVXmBIvewqA39OfZZyWXgec2JJzfTD0dREP67Q/loXhc+49FfQR0OV8Xm2UXdSwvWPyWn1kV8WEPL6CGQOALPBAkPKJ6/ecl0Muizcq20sSSmsyGBfqCFa3oLKJ+0TU5jXo0Q0kBYb9e+LK3TWb2bbKzK2Ki/el70c2r+R3NZ62i5PsE19Qdo/tOF+bBzuE4ONih/l0X48MKr1rF70UfVcHa05LhqavHhfPkLN34RoOjL6fSOy0IhJAjUcQW+1wGQyAzLdV4Z/nmU5a6EggRXFbM0Js+9LQLJQ+Ws39pRGlyQAFVbVsH1wpBpcWInFZm7K0BdFvgKW+82j/HBUgq9W0/zpBJ9td9O4yc44lz4Es0jsRhSwsGREwzQ36broAy0OQy6Ll7EtgMzDumJnfLSY3BwaybK6HqLND84n7MOn+XGF9hfr6LxupmL/0PuSXGgzpN6boWvDv1Mx/Y0F40QHgNvh1kClMRBnyGWxxY0pywsN4bcP0L12F1syJhDqpRb2vxJAUXvpzcmj4lc7cS1LuyCmEAUsi/W+FJXQoWp8F8G5rQbXoLEr5WLAgCHDjaRcDqH+tR3LohHa9AeZkK0AT/p9qkxzbT3tN0w4fzJ81mLId2B/SSYcd2LX6/tr7dTv6URZWkHjJjuGQffIAgN8S0JnKXUcmFiyDIgqKJC1aG1cbAHCKDdUSNNmWcpZetDNkQcNSPJBQgDOsrQYWIVIGMBK2bq0ker/RZABwxoHM+T+J/JBPXUfWvDUbcc5YoyuAcfPvDhmSCbBzDPQP5Y5YMS0GOiDnmsKXO7Ed6WMXVXJVyR3gQFQ4XoMtV+m9XWVyn/MjsmNndpP7Ts9cD2KIrmwZShn7XwLLZeBfBdFS4G4hvKFn+bftGPc1IgjTXmo55rZ7VVw/XoPFcv1TIAY/sZa2iI67Y2BKtVR9b5OS9duZ88jlpG7IuXigQiKArHwUVq/MzgQGTD8l+Rl0RsxuB5KLoi+nOEqUIP4XpRx7PVSvFDGt6OO5heaMPk8Q23888DIRlrUz9FTKix0UbLCkDxs+JpMy0sH6H6ohi3pPmo1SPOvm1Ae2cWeJ6y6xpJyrQfucQ77vmJnWmiPakCUwKvtFK12YxvWBz0of+KWi2sIjeDxFsKA7eEizDlAv0L4VDP7Thpx73fcnsHWN8BoS7mqOoZyRkqOruFPkyHr9vvT1G1fGPlLYHEBtrSRLBrqQkGiOH+Sqjmuof1FGm5djIGlzMuxsslVNxU8/vjjs1f5PObYsWOTv/kvUdpf68Lx45eTLx5gXGQGwnCzF/ndVoJrtuLWGeyNa7bjXQPy4cepO5tdLp8PoAHSlTZqPW2wyIrdmkfRrw5hXzpc1RtWbufNlaMJaqRom5cinRL58OO0mHeyZ91t+rD7QrS8pVJZNzgQGTCm2q32K8NmF+mo5/0EJMjrBxbbcD1ipfNIAP85N47VYzs/lN8FiAISQZq2BcFgxmbNw/rTRtzLM9pkcLD9zTdHfZ7BYMja7Wq0F2KVwoQ1MK51kJde2K+iYsK4kGziMqHTGiDR83YtVW+D6V47VmsRuw7ah/mDZ4IRDnhViHymAibyLGkdHulGBiS7Nc3RHyX4YRSkYhz3A/0qmmTQjRsdCfXMPrZdKePQj6ba7p6kW+MBN41Pj+7WuC0lIZgykpbvaJgwW4DLEPntPiIPeDh0v843e62Ng+852f7yZH6DCkoPgIGSX3rHXmyaNUxJv/Jl8L+6D9P6vWzRm3We9XFwcSUNq3UWRKVcpD4Z/2dRipeZU+F5YcJXojA4b/7PuSO6GpU/JqcDtqcbqBmHMh8LgyUP0+syYexDs/Z7itnzmhN1IBeDIeO7/jJMaPESyvSicP6k0AOwsIQdTRun3guwMHdUt4jBMLw/9JVzf4Tuy4Bkx5o2zYheDqEBzvvSxqJLftqvgeGHhdgI0/zsAYx1jbgWKwS8PrpuhJG/7eG1rXak637q/8GP7e/3DPmo4lE631Ep+/txdoUq07yvnUhMRl2zl4ZHRgugEm6NbzrJxZQIPQo609ThaP0W3BuGuywGlQt9A1irJhs6dzdGE3DZjElHn8U+DzOwzIoJhc59B7mgRobeiclUNwVoUlFWDLfJbCXZFxJF/0s/dC7T6o9+KQMGbPemXf3XJsxA5JoCGU+5++5kvIjJmK2Y1WiY2H+1Yl4Iygf1HDyvEvlsCZ5DW7CP9L0sdVBsrCV4aSPW9Dh3yUCmXgaN4IcdGNfu1Y8iGYzsWWzK3swUjxH5YgDLchOoYVq8rYSvDekg7dNmal9VKa3fgiOraQo9XwLLdJ4LxK4lB6zMPtGPc/5cTu7DX2FLmxLEkH+vAHYKbEOtjl3pRgUc+VaUD47SkV9BkRlip310WCtx3QtEkkHvyr/5Cd24m7sHXSLxKP7GJiIPeygeZ4hK+HgzA4+WYb9Lo/dG7/xKpiLIwmjJw4CWWkzRJ6kQwPhI5cg5RJaWUTmZ0DkAJArWFmMkQvcf0uToixI4Us22t1LbO0776MrfSJFpAP6o0DvC06aP1CCChH2UGG5plZvS8Vj/aoj2E1GMK9xsXJHWd4ss5C0E7Vp2gIB5tQurBPLltLiuuIJ8cj/VL3bRexcQ8+MLFLDxf5oYiPegjBrpYqZwvZWO5naU+BjyXmrBd9ZBxd+OYNAtKKBonRG+7B6WkEi9GsBXs43m1BpA+LgPdV0lzkUavVEFFeg+20FEM2LSmwz0xVA0kL5r1h3wFCU561iSIZZ+nHM0goaR4rUFaSN7L73XQbIXYkvzvRhXVeB6v56OA1XIlmL2eFKWyUoPuzSZA1ugoKoQMyqB34VhmRvrQkANcXBbPf64GZvmo/6Mfn+lk/tAJZ7HdmL5so3NV824/s4mIirmO0ut2IFQ+rQ6A+lbRlhoY+ujOuUmExaMWH/suuWHngzS/W721uSyz1vF5rcMyenrIhuuR7dzZFPqlVzpYVdfkPojuRRsc0xgU8dUIWEwAMsrcOsMRKbFS0CCyg3jSFIUV+hs2EfEWcPeSntG1IkFaz5wMUIU5/Bv5Z5iaurA561lk9+QjIYwmHE+XElDkzn5/3ghnl/1EtznI/fB7TjGmBEZV29l65lnqT1gYu9Wh34ETLSd2n/owlHdqGPZDiJhq9xLzV37aPJsptmQdEKY7ndR+ssj2FJyWB7bieVPfp6/aKZkrx0DYUJnNQwrbSzRe+y1CGEkHPfn6RSqKFdVWOoYto4HTG/io5sfv5go//G+xCe9iVtJZp5r+yIxcDOVPOXrnsRH//Rs4sWPJ5IZZSDxyf/dkNjwvzsSXw3cTAxkJrMRzDOSv4fyv2tN6KePSSQSXw8kbo6Sr2dgtMIM/v2fyxPlPz6a6J6QjEP0nHguUb7lcOLf/2N0mUar/4X3stIWjZ/R3pmvBxI3/zyOZ3z9VaLrn55P7G7rTtxMJBKJyEeJ1gvD3+GB4EuJDeXPJlqvTFLOnpOJ58p/mjgs3xzf9/P1V4mu3zyb2PDzfYmTv/9qqI29XyS6Xnsh8czGZxMH/nXqMjB1Nz+TKH+uNfHF14lU0qhnEi8Fe3Vl7Tn+bKJ8w0uJT/T6dlAvnsj+9Y6wIDg1RD6XgRLuNgKhEEEMFC2OcKA2hGtfKZYcM0Xbaog9v5s2SyOl49nq2RfEfzqXgm1W5H11xJ5soHTZ2LfdCcRO17PZG5ptMeYkIy/ASjiKSzCebsd/qZSNevk1cqRb8aq6T8h2Tk4TYfwnoph/4IG2Wnzfq8GzYmKuFNvTR9h1120spEmGkWebY/RTEhX5SC0+rYQt31EJnw/RE2im2z58ZUd6oISSRQHa/WFKn5740lr4VBtRswsPbdQetlLzC4euv3ZIdhPObV5sX4YInm2h/nAYBTCYbdjzK2g4Ypv4pqIRiREJq2AyYcoB5eIFFMy44n52HzKzY1uarPEw/vcUzKU1w8Ipbz3pbCcBycl2HVfLtCpn27pK7IGj+Op7MNxlwHbPAME3/ORt8GAZ7KgcM8XrTVR9HKZ0PNEa3zJhuWcA/7FmBla78XxDFDPxKP4TYVx1x/QVjGBklpfiXtVB09sBXDU6memmgkstVL0SYCAG9HewzxPENFZccRYmLN+T8PubaMuvYMtkst2NplxnAPXMQeo/iKHRwv5bdoQBV3HGgJFjpbTSSYe3lcD6mglnpjNZbEin/DQdt1HxszEUcxrGZXaKl9kpfnJi9U0MI87HXHTsO8r+Bj8sMGFZEKL1GJT83DVM1tiZVjooYkeJjp87Hqb9mIx1g1fX1TI3ku3HNVRNytodNJ/QzjXxzIk8Gv/PRBLMjB/lfAu+437kz2MU1R7DnT8NlUyEuErkdDPNx4N0XzdTebsJ/7OS7QtmH5Fs/3aS7c+NrHQ581sxQ5SO3wZxrC+6pZjHnbe3f6x4FRX58GaqGtoIfR5Dk6ws+fYYt3zq46mdnRl5AGJ07nwK3zhixrWxZIordO7eTPUBP/J1FW2RRSfAf/z1AWCw4d7jgTfqxTFVcwYDtk178eQ0Uz8fj6lqaIaqvbqKWb3oo/73heypHuEUFKbZrSEYH9q5VlqoYO+KtAnrmHl7FQKNdRw4K1HR2DiUoyCTqB/fBzGkZcVs/bkL+2LT2ANhPJmHYnjtAymZRrmvP0zb7t20XHGwPX07bwba+RaOXtIwrtiI58kiLCa9mNRx1JfJIgeel0VU+5wix4ijah7uNcgxUVznpXiEYkO+G+8Ys1ehnGcdBf+JII7H3BPLR3wjRMdZBQ0IXlRwmfWdIeFTbUTz3RyqKZ7+JDufd9H6uQYEkcPg0P3xqQQ/CpC7bieHNtn0LhAIBMwVt8Z85lInLf1llK2YoEfuT8qt9Kzh87JuKkKIIp9Tsa0aIfZzilFvKKmpq0YgpHMsD0C/zIWQgaKVQjELBKMhlPOsEsN/vAPr+qIJb4BQ/9gztPvqYhBZbxfV1SD+a1Yctpk5xC16ZUghq6eD6KlnLRQkIDmxz9n8EwLB3EAo59nkcjstkRLKJrFtOHolDCucOCWAEF2h7O3LinwBZXkh9tuJghg3yZ1OplWpHWF9foI6idO7Pw0irXFgm8k8xgLBHYhQzrOGSvC9Dpb8yIV1wooqGQRvvb+CojXJlbTQ6WCGa0Ml/LswpgLbDG0TjtAtS9jXVFC4PFm//18zbefkNlf9bawCgSAdoZxni6udtFwsonTlJFwO/d10XzKQ910TNmdJMn70YoAL6do55dt15M/Q6dFXw4Q0G3kWE461SX+yejpIOD3a4qpMsG944iyBQKCPUM6zgkbwRCusL5lcisqwTFByYv/vwHIHRQsBZPxnFf1rZoCkC6UA60Iw2p3Jkyf6Ouj6VP+aYcQVwucjxCYSNicQfMMRynmKUT9tpvr59tEPuo120HLWQcVDk7NqwxcDaCts5OUAOVaKfpB0XITTjlcfds20k+FCMRZSvApAw386mIrgGNnNop5rZvdvDtLxxbzapiAQjIpQzlNFXCVyso7Nu9uJfNmG/9JIF2rI77fBE2UjbtIYnTDBUyrOFUPpXM3fL07GSF8drDd5ko31e3kzk4ehL0RXyETRilundVKw0okEaKc76YoB8ZRP+r7sAcmwcjtvvtkwwnl6AsH8RCjnKSJ6spb90WJ2PGEGVDo+DOpvV4110XbKPnLC77G4KhPsc+KwpykycyGufIbq7Qtz4bKJgu/NTAidJl8gtLgIR1pWQemBEkpS7pb201H4IkRAc2C7d0ZEEgjueIRyniLMjzbi3erA/rcubIB2uh3/9ezrwiea6VlXMkrC79EJ+9vpXe2gYJjVbaTwoUFLtZ2OQDdyxhFjAMrpJurra9lUeZBQP4CCv6GK2pM6xzyPmxhdHwUwr3UM3+GYY6VoffKT6IkOOi92o96XR1663HGFzoY66ndu4qkDofmVe0EgGAOhnKcaYyHFqyUgTMt7GaFkMT8t71qoeHhi+W2j79ZR93qAyOV2jn4AJWuzj2iXVpRRsRQgTPORzqS/OaNu34d5VD6SB/EIPdeB6yH853u5e9FEg+2SB+c2nZSJnG+l5aIN1+rsmYD5oYpkHHZfJ77fhjH9D9vwdIqzfmyTQDB3Ecp5ypFwrE2Gt6kfdBDsHyoJv9NC5IcVFE3I2yDT8S8y8rtNVL/QTOTeCop18z2bcW0ZyiVrt2cc4bWwEM+vnPSc6oAHSylcCupnFwhjwWadoBl/I0D7RxECb9RR3dAJ60op1GvTAgeVPxs8xDQ7rM+40sOuByN0ns6lYN1sHNskEMxdhHKeDu5zsTEf0AJ0nk0FH6tBOt5fwsb1Ez0VwkLhI1YMEkj3FFNTPUq+5+UV7PhJMaVbG/Csykx+LmHQQvhP52L7fh5GNORQCMwFWI0q2kTC2Ix2SlaZkQAp382eypHPcjSuduN5tJiK6gY2Zm7ZXmBAOduOvMhJsc2AKvwaAsEtRFa6aSHpA/ZdDCC/00V0jQs+aiG0xs3WCa/RGbA+sYcjT4znWgnrQ+4RjjkFrnQjAyX/zQjxEKFzYFhjJvJKLaH1jeM/7ivHhPMXjTh/MZ6LTTiedI9QdvvHNgkE31SE5TxN3IpWuNqGPxSk9bdQum6WTwu/z0WlHTr+uZ76PR0M2EwMnG/G/5cynLNy3Ffy2KaYv4m2/lIqJnNsk0DwDUVYztNFKlqh/Y0oHfuaYKWHrTO0k3pkmUwU1xwZMQH4zGPEueNNnLMthkAwBxGW8zRiXp0Kq9NMlK3PjrAYlRwJcnKnSbKx6gYpB4bXnpuSaaaEmOn6BIK5xdw44PUbi0bQ+wxNcc/8POBSIBBMGqGcBQKBYA4i3BoCgUAwBxHKWSAQCOYg/x+59snv1RO7HgAAAABJRU5ErkJggg==)\n",
        "\n",
        "\n",
        "코드를 실행시킬 때에는 행렬 형태로 변환하고 계산하기 때문에 계산의 효율성 문제로 행렬로 변환\n",
        "![image.png](data:image/png;base64,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)\n"
      ],
      "metadata": {
        "id": "oSK85r0NBc6q"
      }
    },
    {
      "cell_type": "code",
      "source": [
        "class GNNLayer(nn.Module):\n",
        "    def __init__(self, in_feats, out_feats):\n",
        "        super(GNNLayer, self).__init__()\n",
        "        self.in_feats = in_feats\n",
        "        self.out_feats = out_feats\n",
        "\n",
        "        self.W1 = nn.Linear(in_feats, out_feats)\n",
        "        self.W2 = nn.Linear(in_feats, out_feats)\n",
        "\n",
        "    def forward(self, L, SelfLoop, feats):\n",
        "        # (L+I)EW_1\n",
        "        sf_L = L + SelfLoop\n",
        "        L = L.cuda()  # .cuda() -> GPU 활용\n",
        "        sf_L = sf_L.cuda()\n",
        "        sf_E = torch.sparse.mm(sf_L, feats)  # sparse 행렬 coo or csr 형식으로 메모리 절약, mm -> 행렬곱(matmul과 다른점은  broadcast 기능을 제공해주기 때문에 도리어 debug point가 될 수 있다.)\n",
        "        left_part = self.W1(sf_E) # left part\n",
        "\n",
        "        # EL odot EW_2, odot indicates element-wise product\n",
        "        LE = torch.sparse.mm(L, feats)\n",
        "        E = torch.mul(LE, feats)\n",
        "        right_part = self.W2(E)\n",
        "\n",
        "        return left_part + right_part"
      ],
      "metadata": {
        "id": "74KDWDWqBaGV"
      },
      "execution_count": null,
      "outputs": []
    },
    {
      "cell_type": "markdown",
      "source": [
        "nn.Embedding()을 통해 user와 item embedding 생성(룩업테이블)\n",
        "\n",
        "LaplacianMatrix\n",
        "\n",
        "![image.png](data:image/png;base64,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)\n",
        "\n",
        "Upper Matrix는 [0, R]로 표현된 행렬의 윗 부분을 만들기 위함이고, Lower Matrix는 그 아래의 [R, 0]행렬 부분을 만들기 위함.\n",
        "\n",
        "그 후 vstack 함수를 사용해 합친 후 Diagonal Matrix와 Adjacency Matrix를 곱해 Laplacian Matrix를 생성.\n"
      ],
      "metadata": {
        "id": "F4Reyag9towg"
      }
    },
    {
      "cell_type": "code",
      "execution_count": null,
      "metadata": {
        "id": "kWacMu7k2SrU"
      },
      "outputs": [],
      "source": [
        "class NGCF(nn.Module):\n",
        "    def __init__(self, args, matrix):\n",
        "        super(NGCF, self).__init__()\n",
        "        self.num_users = args.num_users\n",
        "        self.num_items = args.num_items\n",
        "        self.latent_dim = args.latent_dim\n",
        "        self.device = args.device\n",
        "\n",
        "        self.user_emb = nn.Embedding(self.num_users, self.latent_dim)\n",
        "        self.item_emb = nn.Embedding(self.num_items, self.latent_dim)\n",
        "\n",
        "        self.num_layers = args.num_layers\n",
        "        self.L = self.LaplacianMatrix(matrix)\n",
        "        self.I = self.SelfLoop(self.num_users + self.num_items)\n",
        "\n",
        "        self.leakyrelu = nn.LeakyReLU()\n",
        "        self.GNNLayers = nn.ModuleList()\n",
        "\n",
        "        for i in range(self.num_layers-1):\n",
        "            self.GNNLayers.append(GNNLayer(self.latent_dim, self.latent_dim))\n",
        "\n",
        "        self.fc_layer = nn.Sequential(\n",
        "            nn.Linear(self.latent_dim * self.num_layers * 2, 64),\n",
        "            nn.ReLU(),\n",
        "            nn.Linear(64, 32),\n",
        "            nn.ReLU(),\n",
        "            nn.Linear(32, 1)\n",
        "        )\n",
        "\n",
        "    def SelfLoop(self, num):\n",
        "        i = torch.LongTensor([[k for k in range(0, num)], [j for j in range(0, num)]]) # torch.LongTensor 정수형\n",
        "        val = torch.FloatTensor([1]*num)\n",
        "        return torch.sparse.FloatTensor(i, val)\n",
        "\n",
        "    def LaplacianMatrix(self, ratings):\n",
        "        iids = ratings['business_id'] + self.num_users\n",
        "        matrix = sp.coo_matrix((ratings['stars'], (ratings['user_id'], ratings['business_id'])))\n",
        "\n",
        "        upper_matrix = sp.coo_matrix((ratings['stars'], (ratings['user_id'], iids)))\n",
        "        lower_matrix = matrix.transpose()\n",
        "        lower_matrix.resize((self.num_items, self.num_users + self.num_items))\n",
        "\n",
        "        A = sp.vstack([upper_matrix, lower_matrix])\n",
        "        row_sum = (A > 0).sum(axis=1)\n",
        "        # row_sum = np.array(row_sum).flatten()\n",
        "        diag = list(np.array(row_sum.flatten())[0])\n",
        "        D = np.power(diag, -0.5)\n",
        "        D = sp.diags(D)\n",
        "        L = D * A * D\n",
        "        L = sp.coo_matrix(L)\n",
        "        row = L.row\n",
        "        col = L.col\n",
        "        idx = np.stack([row, col])\n",
        "        idx = torch.LongTensor(idx)\n",
        "        data = torch.FloatTensor(L.data)\n",
        "        SparseL = torch.sparse.FloatTensor(idx, data)\n",
        "        return SparseL\n",
        "\n",
        "    def FeatureMatrix(self):\n",
        "        uids = torch.LongTensor([i for i in range(self.num_users)]).to(self.device)\n",
        "        iids = torch.LongTensor([i for i in range(self.num_items)]).to(self.device)\n",
        "        user_emb = self.user_emb(uids)\n",
        "        item_emb = self.item_emb(iids)\n",
        "        features = torch.cat([user_emb, item_emb], dim=0)  # torch.cat으로 텐서 user_emb과 item_emb 쌓음\n",
        "        return features\n",
        "\n",
        "    def forward(self, uids, iids):\n",
        "        iids = self.num_users + iids\n",
        "\n",
        "        features = self.FeatureMatrix()\n",
        "        final_emb = features.clone()\n",
        "\n",
        "        for gnn in self.GNNLayers:\n",
        "            features = gnn(self.L, self.I, features)\n",
        "            features = self.leakyrelu(features)\n",
        "            final_emb = torch.concat([final_emb, features],dim=-1)\n",
        "\n",
        "        user_emb = final_emb[uids]\n",
        "        item_emb = final_emb[iids]\n",
        "\n",
        "        inputs = torch.concat([user_emb, item_emb], dim=-1)\n",
        "        outs = self.fc_layer(inputs)\n",
        "        return outs.flatten()"
      ]
    },
    {
      "cell_type": "markdown",
      "source": [
        "DataLoader\n",
        "\n",
        "GraphDataset이라는 클래스로 user, item, rating 데이터의 길이와 인덱스를 지정해줌"
      ],
      "metadata": {
        "id": "uGzIRBfppTbI"
      }
    },
    {
      "cell_type": "code",
      "execution_count": null,
      "metadata": {
        "id": "nWAAOhWf2SrV"
      },
      "outputs": [],
      "source": [
        "class GraphDataset(Dataset):\n",
        "    def __init__(self, dataframe):\n",
        "        super(Dataset, self).__init__()\n",
        "\n",
        "        self.uid = list(dataframe['user_id'])\n",
        "        self.iid = list(dataframe['business_id'])\n",
        "        self.ratings = list(dataframe['stars'])\n",
        "\n",
        "    def __len__(self):\n",
        "        return len(self.uid)\n",
        "\n",
        "    def __getitem__(self, idx):\n",
        "        uid = self.uid[idx]\n",
        "        iid = self.iid[idx]\n",
        "        rating = self.ratings[idx]\n",
        "\n",
        "        return (uid, iid, rating)"
      ]
    },
    {
      "cell_type": "markdown",
      "source": [
        "DataLoader 통해서 batch size, num_workers 지정"
      ],
      "metadata": {
        "id": "zWal4IvYqf5R"
      }
    },
    {
      "cell_type": "code",
      "execution_count": null,
      "metadata": {
        "id": "9Ei6g57T2SrV"
      },
      "outputs": [],
      "source": [
        "def get_loader(args, dataset, num_workers):\n",
        "    d_set = GraphDataset(dataset)\n",
        "    return DataLoader(d_set, batch_size=args.batch_size, num_workers=num_workers)"
      ]
    },
    {
      "cell_type": "code",
      "execution_count": null,
      "metadata": {
        "colab": {
          "base_uri": "https://localhost:8080/"
        },
        "id": "pEAKyCaT2SrV",
        "outputId": "b234ef26-d140-4e09-de60-255a07070d41"
      },
      "outputs": [
        {
          "output_type": "stream",
          "name": "stderr",
          "text": [
            "/usr/local/lib/python3.10/dist-packages/torch/utils/data/dataloader.py:560: UserWarning: This DataLoader will create 4 worker processes in total. Our suggested max number of worker in current system is 2, which is smaller than what this DataLoader is going to create. Please be aware that excessive worker creation might get DataLoader running slow or even freeze, lower the worker number to avoid potential slowness/freeze if necessary.\n",
            "  warnings.warn(_create_warning_msg(\n"
          ]
        }
      ],
      "source": [
        "train_loader = get_loader(args, d_train, 4)\n",
        "valid_loader = get_loader(args, d_valid, 4)\n",
        "test_loader = get_loader(args, d_test, 4)"
      ]
    },
    {
      "cell_type": "markdown",
      "source": [
        "미니배치 구성하여 L1 loss(criterion = nn.L1Loss())로 손실함수 -> 논문에서는 implict data라 bpr loss를 활용하였지만 MovieLens1M 데이터셋으로 explict한 관점에서 성능 비교하고자 L1 loss 활용.\n",
        "\n",
        "optimizer는 Adam\n",
        "\n",
        "\n",
        "\n",
        "---\n",
        "\n",
        "\n",
        "-> 논문에서는 손실함수로 BPR loss를 활용!\n",
        "\n",
        "![image.png](data:image/png;base64,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)\n",
        "\n",
        "![image.png](data:image/png;base64,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)\n",
        "```\n",
        "#  dgl 라이브러리 활용한 ngcf 코드에서 BPR LOSS 함수 활용 예)\n",
        "\n",
        "def create_bpr_loss(self, users, pos_items, neg_items):\n",
        "    pos_scores = (users * pos_items).sum(1)\n",
        "    neg_scores = (users * neg_items).sum(1)\n",
        "\n",
        "    mf_loss = nn.LogSigmoid()(pos_scores - neg_scores).mean()\n",
        "    mf_loss = -1 * mf_loss\n",
        "\n",
        "    regularizer = (\n",
        "        torch.norm(users) ** 2\n",
        "        + torch.norm(pos_items) ** 2\n",
        "        + torch.norm(neg_items) ** 2\n",
        "    ) / 2\n",
        "    emb_loss = self.lmbd * regularizer / users.shape[0]\n",
        "\n",
        "    return mf_loss + emb_loss, mf_loss, emb_loss\n",
        "\n",
        "def rating(self, u_g_embeddings, pos_i_g_embeddings):\n",
        "    return torch.matmul(u_g_embeddings, pos_i_g_embeddings.t())\n",
        "\n",
        "def forward(self, g, user_key, item_key, users, pos_items, neg_items):\n",
        "    h_dict = {ntype: self.feature_dict[ntype] for ntype in g.ntypes}\n",
        "    # obtain features of each layer and concatenate them all\n",
        "    user_embeds = []\n",
        "    item_embeds = []\n",
        "    user_embeds.append(h_dict[user_key])\n",
        "    item_embeds.append(h_dict[item_key])\n",
        "    for layer in self.layers:\n",
        "        h_dict = layer(g, h_dict)\n",
        "        user_embeds.append(h_dict[user_key])\n",
        "        item_embeds.append(h_dict[item_key])\n",
        "    user_embd = torch.cat(user_embeds, 1)\n",
        "    item_embd = torch.cat(item_embeds, 1)\n",
        "\n",
        "    u_g_embeddings = user_embd[users, :]\n",
        "    pos_i_g_embeddings = item_embd[pos_items, :]\n",
        "    neg_i_g_embeddings = item_embd[neg_items, :]\n",
        "\n",
        "    return u_g_embeddings, pos_i_g_embeddings,\n",
        "```\n",
        "positive item & negative item sampling(dgl 라이브러리 활용한 ngcf 코드)\n",
        "\n",
        "\n",
        "\n",
        "```\n",
        "def sample_pos_items_for_u(u, num):\n",
        "    # sample num pos items for u-th user\n",
        "    pos_items = self.train_items[u]\n",
        "    n_pos_items = len(pos_items)\n",
        "    pos_batch = []\n",
        "    while True:\n",
        "        if len(pos_batch) == num:\n",
        "            break\n",
        "        pos_id = np.random.randint(low=0, high=n_pos_items, size=1)[0]\n",
        "        pos_i_id = pos_items[pos_id]\n",
        "\n",
        "        if pos_i_id not in pos_batch:\n",
        "            pos_batch.append(pos_i_id)\n",
        "    return pos_batch\n",
        "\n",
        "def sample_neg_items_for_u(u, num):\n",
        "    # sample num neg items for u-th user\n",
        "    neg_items = []\n",
        "    while True:\n",
        "        if len(neg_items) == num:\n",
        "            break\n",
        "        neg_id = np.random.randint(low=0, high=self.n_items, size=1)[0]\n",
        "        if (\n",
        "            neg_id not in self.train_items[u]\n",
        "            and neg_id not in neg_items\n",
        "        ):\n",
        "            neg_items.append(neg_id)\n",
        "    return neg_items\n",
        "\n",
        "pos_items, neg_items = [], []\n",
        "for u in users:\n",
        "    pos_items += sample_pos_items_for_u(u, 1)\n",
        "    neg_items += sample_neg_items_for_u(u, 1)\n",
        "\n",
        "return users, pos_items, neg_items\n",
        "```\n",
        "출처 : https://github.com/dmlc/dgl/tree/master/examples/pytorch/NGCF\n",
        "\n",
        "\n"
      ],
      "metadata": {
        "id": "DgVwv6T00Y2G"
      }
    },
    {
      "cell_type": "code",
      "execution_count": null,
      "metadata": {
        "id": "p90stnoQ2SrV"
      },
      "outputs": [],
      "source": [
        "def graph_evaluate(args, model, test_loader, criterion):\n",
        "    output = []\n",
        "    test_loss = 0\n",
        "\n",
        "    model.eval()\n",
        "    with torch.no_grad():\n",
        "        for batch in tqdm(test_loader, desc='evaluating...'):\n",
        "            batch = tuple(b.to(args.device) for b in batch)\n",
        "            inputs = {'uids':   batch[0],\n",
        "                      'iids':   batch[1]}\n",
        "            gold_y = batch[2].float()\n",
        "\n",
        "            pred_y = model(**inputs)\n",
        "            output.append(pred_y)\n",
        "\n",
        "            loss = criterion(pred_y, gold_y)\n",
        "            loss = torch.sqrt(loss)\n",
        "            test_loss += loss.item()\n",
        "    test_loss /= len(test_loader)\n",
        "    return test_loss, output"
      ]
    },
    {
      "cell_type": "code",
      "execution_count": null,
      "metadata": {
        "id": "MtdUcB9B2SrW"
      },
      "outputs": [],
      "source": [
        "def graph_train(args, model, train_loader, valid_loader, optimizer, criterion):\n",
        "    best_loss = float('inf')\n",
        "    train_losses, valid_losses = [], []\n",
        "    for epoch in range(1, args.num_epochs + 1):\n",
        "        train_loss = 0.0\n",
        "\n",
        "        model.train()\n",
        "        for batch in tqdm(train_loader, desc='training...'):\n",
        "            batch = tuple(b.to(args.device) for b in batch)\n",
        "            inputs = {'uids':   batch[0],\n",
        "                      'iids':   batch[1]}\n",
        "\n",
        "            gold_y = batch[2].float()\n",
        "\n",
        "\n",
        "            pred_y = model(**inputs)\n",
        "\n",
        "            loss = criterion(pred_y, gold_y)\n",
        "            loss = torch.sqrt(loss)\n",
        "            optimizer.zero_grad()\n",
        "            loss.backward()\n",
        "            optimizer.step()\n",
        "            train_loss += loss.item()\n",
        "        train_loss /= len(train_loader)\n",
        "        train_losses.append(train_loss)\n",
        "\n",
        "        valid_loss , outputs = graph_evaluate(args, model, valid_loader, criterion)\n",
        "        valid_losses.append(valid_loss)\n",
        "\n",
        "\n",
        "        print(f'Epoch: [{epoch}/{args.num_epochs}]')\n",
        "        print(f'Train Loss: {train_loss:.4f}\\tValid Loss: {valid_loss:.4f}')\n",
        "\n",
        "        if best_loss > valid_loss:\n",
        "            best_loss = valid_loss\n",
        "            if not os.path.exists(args.SAVE_PATH):\n",
        "                os.makedirs(args.SAVE_PATH)\n",
        "            torch.save(model.state_dict(), os.path.join(args.SAVE_PATH, f'{model._get_name()}_parameters.pt'))\n",
        "\n",
        "    return {\n",
        "        'train_loss': train_losses,\n",
        "        'valid_loss': valid_losses\n",
        "    }, outputs"
      ]
    },
    {
      "cell_type": "code",
      "execution_count": null,
      "metadata": {
        "id": "HdoYFesy2SrW"
      },
      "outputs": [],
      "source": [
        "models = NGCF(args, d_train).to(args.device)\n",
        "\n",
        "optimizer = optim.Adam(models.parameters(), lr = 1e-3)\n",
        "criterion = nn.L1Loss()"
      ]
    },
    {
      "cell_type": "code",
      "execution_count": null,
      "metadata": {
        "colab": {
          "base_uri": "https://localhost:8080/"
        },
        "id": "h-uydHkQ2SrW",
        "outputId": "3fa319e1-04e4-441f-f97c-d1f95c4d2299"
      },
      "outputs": [
        {
          "output_type": "stream",
          "name": "stderr",
          "text": [
            "training...: 100%|██████████| 1173/1173 [03:32<00:00,  5.53it/s]\n",
            "evaluating...: 100%|██████████| 391/391 [00:56<00:00,  6.95it/s]\n"
          ]
        },
        {
          "output_type": "stream",
          "name": "stdout",
          "text": [
            "Epoch: [1/50]\n",
            "Train Loss: 0.8882\tValid Loss: 0.8609\n"
          ]
        },
        {
          "output_type": "stream",
          "name": "stderr",
          "text": [
            "training...: 100%|██████████| 1173/1173 [03:25<00:00,  5.71it/s]\n",
            "evaluating...: 100%|██████████| 391/391 [00:57<00:00,  6.83it/s]\n"
          ]
        },
        {
          "output_type": "stream",
          "name": "stdout",
          "text": [
            "Epoch: [2/50]\n",
            "Train Loss: 0.8520\tValid Loss: 0.8505\n"
          ]
        },
        {
          "output_type": "stream",
          "name": "stderr",
          "text": [
            "training...: 100%|██████████| 1173/1173 [03:26<00:00,  5.68it/s]\n",
            "evaluating...: 100%|██████████| 391/391 [00:55<00:00,  7.07it/s]\n"
          ]
        },
        {
          "output_type": "stream",
          "name": "stdout",
          "text": [
            "Epoch: [3/50]\n",
            "Train Loss: 0.8439\tValid Loss: 0.8467\n"
          ]
        },
        {
          "output_type": "stream",
          "name": "stderr",
          "text": [
            "training...: 100%|██████████| 1173/1173 [03:28<00:00,  5.64it/s]\n",
            "evaluating...: 100%|██████████| 391/391 [00:55<00:00,  7.06it/s]\n"
          ]
        },
        {
          "output_type": "stream",
          "name": "stdout",
          "text": [
            "Epoch: [4/50]\n",
            "Train Loss: 0.8383\tValid Loss: 0.8433\n"
          ]
        },
        {
          "output_type": "stream",
          "name": "stderr",
          "text": [
            "training...: 100%|██████████| 1173/1173 [03:26<00:00,  5.68it/s]\n",
            "evaluating...: 100%|██████████| 391/391 [00:55<00:00,  7.01it/s]\n"
          ]
        },
        {
          "output_type": "stream",
          "name": "stdout",
          "text": [
            "Epoch: [5/50]\n",
            "Train Loss: 0.8336\tValid Loss: 0.8415\n"
          ]
        },
        {
          "output_type": "stream",
          "name": "stderr",
          "text": [
            "training...: 100%|██████████| 1173/1173 [03:25<00:00,  5.71it/s]\n",
            "evaluating...: 100%|██████████| 391/391 [00:54<00:00,  7.21it/s]\n"
          ]
        },
        {
          "output_type": "stream",
          "name": "stdout",
          "text": [
            "Epoch: [6/50]\n",
            "Train Loss: 0.8298\tValid Loss: 0.8408\n"
          ]
        },
        {
          "output_type": "stream",
          "name": "stderr",
          "text": [
            "training...: 100%|██████████| 1173/1173 [03:27<00:00,  5.65it/s]\n",
            "evaluating...: 100%|██████████| 391/391 [01:00<00:00,  6.49it/s]\n"
          ]
        },
        {
          "output_type": "stream",
          "name": "stdout",
          "text": [
            "Epoch: [7/50]\n",
            "Train Loss: 0.8263\tValid Loss: 0.8398\n"
          ]
        },
        {
          "output_type": "stream",
          "name": "stderr",
          "text": [
            "training...: 100%|██████████| 1173/1173 [03:29<00:00,  5.59it/s]\n",
            "evaluating...: 100%|██████████| 391/391 [00:55<00:00,  7.01it/s]\n"
          ]
        },
        {
          "output_type": "stream",
          "name": "stdout",
          "text": [
            "Epoch: [8/50]\n",
            "Train Loss: 0.8233\tValid Loss: 0.8387\n"
          ]
        },
        {
          "output_type": "stream",
          "name": "stderr",
          "text": [
            "training...: 100%|██████████| 1173/1173 [03:28<00:00,  5.63it/s]\n",
            "evaluating...: 100%|██████████| 391/391 [00:55<00:00,  7.07it/s]\n"
          ]
        },
        {
          "output_type": "stream",
          "name": "stdout",
          "text": [
            "Epoch: [9/50]\n",
            "Train Loss: 0.8203\tValid Loss: 0.8405\n"
          ]
        },
        {
          "output_type": "stream",
          "name": "stderr",
          "text": [
            "training...: 100%|██████████| 1173/1173 [03:26<00:00,  5.68it/s]\n",
            "evaluating...: 100%|██████████| 391/391 [00:55<00:00,  7.09it/s]\n"
          ]
        },
        {
          "output_type": "stream",
          "name": "stdout",
          "text": [
            "Epoch: [10/50]\n",
            "Train Loss: 0.8176\tValid Loss: 0.8404\n"
          ]
        },
        {
          "output_type": "stream",
          "name": "stderr",
          "text": [
            "training...: 100%|██████████| 1173/1173 [03:27<00:00,  5.65it/s]\n",
            "evaluating...: 100%|██████████| 391/391 [00:55<00:00,  7.03it/s]\n"
          ]
        },
        {
          "output_type": "stream",
          "name": "stdout",
          "text": [
            "Epoch: [11/50]\n",
            "Train Loss: 0.8152\tValid Loss: 0.8401\n"
          ]
        },
        {
          "output_type": "stream",
          "name": "stderr",
          "text": [
            "training...: 100%|██████████| 1173/1173 [03:27<00:00,  5.65it/s]\n",
            "evaluating...: 100%|██████████| 391/391 [00:55<00:00,  6.99it/s]\n"
          ]
        },
        {
          "output_type": "stream",
          "name": "stdout",
          "text": [
            "Epoch: [12/50]\n",
            "Train Loss: 0.8128\tValid Loss: 0.8393\n"
          ]
        },
        {
          "output_type": "stream",
          "name": "stderr",
          "text": [
            "training...: 100%|██████████| 1173/1173 [03:25<00:00,  5.71it/s]\n",
            "evaluating...: 100%|██████████| 391/391 [00:56<00:00,  6.87it/s]\n"
          ]
        },
        {
          "output_type": "stream",
          "name": "stdout",
          "text": [
            "Epoch: [13/50]\n",
            "Train Loss: 0.8109\tValid Loss: 0.8388\n"
          ]
        },
        {
          "output_type": "stream",
          "name": "stderr",
          "text": [
            "training...: 100%|██████████| 1173/1173 [03:26<00:00,  5.69it/s]\n",
            "evaluating...: 100%|██████████| 391/391 [00:58<00:00,  6.71it/s]\n"
          ]
        },
        {
          "output_type": "stream",
          "name": "stdout",
          "text": [
            "Epoch: [14/50]\n",
            "Train Loss: 0.8087\tValid Loss: 0.8397\n"
          ]
        },
        {
          "output_type": "stream",
          "name": "stderr",
          "text": [
            "training...: 100%|██████████| 1173/1173 [03:26<00:00,  5.68it/s]\n",
            "evaluating...: 100%|██████████| 391/391 [00:54<00:00,  7.16it/s]\n"
          ]
        },
        {
          "output_type": "stream",
          "name": "stdout",
          "text": [
            "Epoch: [15/50]\n",
            "Train Loss: 0.8064\tValid Loss: 0.8402\n"
          ]
        },
        {
          "output_type": "stream",
          "name": "stderr",
          "text": [
            "training...: 100%|██████████| 1173/1173 [03:26<00:00,  5.68it/s]\n",
            "evaluating...: 100%|██████████| 391/391 [00:54<00:00,  7.12it/s]\n"
          ]
        },
        {
          "output_type": "stream",
          "name": "stdout",
          "text": [
            "Epoch: [16/50]\n",
            "Train Loss: 0.8046\tValid Loss: 0.8407\n"
          ]
        },
        {
          "output_type": "stream",
          "name": "stderr",
          "text": [
            "training...: 100%|██████████| 1173/1173 [03:26<00:00,  5.69it/s]\n",
            "evaluating...: 100%|██████████| 391/391 [00:55<00:00,  6.99it/s]\n"
          ]
        },
        {
          "output_type": "stream",
          "name": "stdout",
          "text": [
            "Epoch: [17/50]\n",
            "Train Loss: 0.8025\tValid Loss: 0.8417\n"
          ]
        },
        {
          "output_type": "stream",
          "name": "stderr",
          "text": [
            "training...: 100%|██████████| 1173/1173 [03:25<00:00,  5.71it/s]\n",
            "evaluating...: 100%|██████████| 391/391 [00:54<00:00,  7.18it/s]\n"
          ]
        },
        {
          "output_type": "stream",
          "name": "stdout",
          "text": [
            "Epoch: [18/50]\n",
            "Train Loss: 0.8003\tValid Loss: 0.8407\n"
          ]
        },
        {
          "output_type": "stream",
          "name": "stderr",
          "text": [
            "training...: 100%|██████████| 1173/1173 [03:25<00:00,  5.70it/s]\n",
            "evaluating...: 100%|██████████| 391/391 [00:56<00:00,  6.96it/s]\n"
          ]
        },
        {
          "output_type": "stream",
          "name": "stdout",
          "text": [
            "Epoch: [19/50]\n",
            "Train Loss: 0.7981\tValid Loss: 0.8414\n"
          ]
        },
        {
          "output_type": "stream",
          "name": "stderr",
          "text": [
            "training...: 100%|██████████| 1173/1173 [03:26<00:00,  5.67it/s]\n",
            "evaluating...: 100%|██████████| 391/391 [00:55<00:00,  7.02it/s]\n"
          ]
        },
        {
          "output_type": "stream",
          "name": "stdout",
          "text": [
            "Epoch: [20/50]\n",
            "Train Loss: 0.7959\tValid Loss: 0.8421\n"
          ]
        },
        {
          "output_type": "stream",
          "name": "stderr",
          "text": [
            "training...: 100%|██████████| 1173/1173 [03:27<00:00,  5.64it/s]\n",
            "evaluating...: 100%|██████████| 391/391 [00:55<00:00,  7.10it/s]\n"
          ]
        },
        {
          "output_type": "stream",
          "name": "stdout",
          "text": [
            "Epoch: [21/50]\n",
            "Train Loss: 0.7941\tValid Loss: 0.8441\n"
          ]
        },
        {
          "output_type": "stream",
          "name": "stderr",
          "text": [
            "training...: 100%|██████████| 1173/1173 [03:27<00:00,  5.66it/s]\n",
            "evaluating...: 100%|██████████| 391/391 [00:56<00:00,  6.92it/s]\n"
          ]
        },
        {
          "output_type": "stream",
          "name": "stdout",
          "text": [
            "Epoch: [22/50]\n",
            "Train Loss: 0.7924\tValid Loss: 0.8425\n"
          ]
        },
        {
          "output_type": "stream",
          "name": "stderr",
          "text": [
            "training...: 100%|██████████| 1173/1173 [03:26<00:00,  5.68it/s]\n",
            "evaluating...: 100%|██████████| 391/391 [00:54<00:00,  7.18it/s]\n"
          ]
        },
        {
          "output_type": "stream",
          "name": "stdout",
          "text": [
            "Epoch: [23/50]\n",
            "Train Loss: 0.7905\tValid Loss: 0.8442\n"
          ]
        },
        {
          "output_type": "stream",
          "name": "stderr",
          "text": [
            "training...: 100%|██████████| 1173/1173 [03:24<00:00,  5.74it/s]\n",
            "evaluating...: 100%|██████████| 391/391 [00:54<00:00,  7.20it/s]\n"
          ]
        },
        {
          "output_type": "stream",
          "name": "stdout",
          "text": [
            "Epoch: [24/50]\n",
            "Train Loss: 0.7889\tValid Loss: 0.8457\n"
          ]
        },
        {
          "output_type": "stream",
          "name": "stderr",
          "text": [
            "training...: 100%|██████████| 1173/1173 [03:24<00:00,  5.75it/s]\n",
            "evaluating...: 100%|██████████| 391/391 [00:54<00:00,  7.23it/s]\n"
          ]
        },
        {
          "output_type": "stream",
          "name": "stdout",
          "text": [
            "Epoch: [25/50]\n",
            "Train Loss: 0.7873\tValid Loss: 0.8473\n"
          ]
        },
        {
          "output_type": "stream",
          "name": "stderr",
          "text": [
            "training...: 100%|██████████| 1173/1173 [03:25<00:00,  5.72it/s]\n",
            "evaluating...: 100%|██████████| 391/391 [00:54<00:00,  7.24it/s]\n"
          ]
        },
        {
          "output_type": "stream",
          "name": "stdout",
          "text": [
            "Epoch: [26/50]\n",
            "Train Loss: 0.7855\tValid Loss: 0.8481\n"
          ]
        },
        {
          "output_type": "stream",
          "name": "stderr",
          "text": [
            "training...: 100%|██████████| 1173/1173 [03:24<00:00,  5.73it/s]\n",
            "evaluating...: 100%|██████████| 391/391 [00:55<00:00,  7.02it/s]\n"
          ]
        },
        {
          "output_type": "stream",
          "name": "stdout",
          "text": [
            "Epoch: [27/50]\n",
            "Train Loss: 0.7834\tValid Loss: 0.8525\n"
          ]
        },
        {
          "output_type": "stream",
          "name": "stderr",
          "text": [
            "training...: 100%|██████████| 1173/1173 [03:24<00:00,  5.73it/s]\n",
            "evaluating...: 100%|██████████| 391/391 [00:54<00:00,  7.20it/s]\n"
          ]
        },
        {
          "output_type": "stream",
          "name": "stdout",
          "text": [
            "Epoch: [28/50]\n",
            "Train Loss: 0.7816\tValid Loss: 0.8496\n"
          ]
        },
        {
          "output_type": "stream",
          "name": "stderr",
          "text": [
            "training...: 100%|██████████| 1173/1173 [03:24<00:00,  5.74it/s]\n",
            "evaluating...: 100%|██████████| 391/391 [00:53<00:00,  7.26it/s]\n"
          ]
        },
        {
          "output_type": "stream",
          "name": "stdout",
          "text": [
            "Epoch: [29/50]\n",
            "Train Loss: 0.7796\tValid Loss: 0.8486\n"
          ]
        },
        {
          "output_type": "stream",
          "name": "stderr",
          "text": [
            "training...: 100%|██████████| 1173/1173 [03:24<00:00,  5.72it/s]\n",
            "evaluating...: 100%|██████████| 391/391 [00:53<00:00,  7.24it/s]\n"
          ]
        },
        {
          "output_type": "stream",
          "name": "stdout",
          "text": [
            "Epoch: [30/50]\n",
            "Train Loss: 0.7776\tValid Loss: 0.8522\n"
          ]
        },
        {
          "output_type": "stream",
          "name": "stderr",
          "text": [
            "training...: 100%|██████████| 1173/1173 [03:23<00:00,  5.75it/s]\n",
            "evaluating...: 100%|██████████| 391/391 [00:53<00:00,  7.25it/s]\n"
          ]
        },
        {
          "output_type": "stream",
          "name": "stdout",
          "text": [
            "Epoch: [31/50]\n",
            "Train Loss: 0.7765\tValid Loss: 0.8519\n"
          ]
        },
        {
          "output_type": "stream",
          "name": "stderr",
          "text": [
            "training...: 100%|██████████| 1173/1173 [03:24<00:00,  5.73it/s]\n",
            "evaluating...: 100%|██████████| 391/391 [00:54<00:00,  7.19it/s]\n"
          ]
        },
        {
          "output_type": "stream",
          "name": "stdout",
          "text": [
            "Epoch: [32/50]\n",
            "Train Loss: 0.7750\tValid Loss: 0.8518\n"
          ]
        },
        {
          "output_type": "stream",
          "name": "stderr",
          "text": [
            "training...: 100%|██████████| 1173/1173 [03:24<00:00,  5.74it/s]\n",
            "evaluating...: 100%|██████████| 391/391 [00:54<00:00,  7.20it/s]\n"
          ]
        },
        {
          "output_type": "stream",
          "name": "stdout",
          "text": [
            "Epoch: [33/50]\n",
            "Train Loss: 0.7739\tValid Loss: 0.8543\n"
          ]
        },
        {
          "output_type": "stream",
          "name": "stderr",
          "text": [
            "training...: 100%|██████████| 1173/1173 [03:25<00:00,  5.70it/s]\n",
            "evaluating...: 100%|██████████| 391/391 [00:54<00:00,  7.15it/s]\n"
          ]
        },
        {
          "output_type": "stream",
          "name": "stdout",
          "text": [
            "Epoch: [34/50]\n",
            "Train Loss: 0.7732\tValid Loss: 0.8573\n"
          ]
        },
        {
          "output_type": "stream",
          "name": "stderr",
          "text": [
            "training...: 100%|██████████| 1173/1173 [03:24<00:00,  5.74it/s]\n",
            "evaluating...: 100%|██████████| 391/391 [00:53<00:00,  7.25it/s]\n"
          ]
        },
        {
          "output_type": "stream",
          "name": "stdout",
          "text": [
            "Epoch: [35/50]\n",
            "Train Loss: 0.7722\tValid Loss: 0.8540\n"
          ]
        },
        {
          "output_type": "stream",
          "name": "stderr",
          "text": [
            "training...: 100%|██████████| 1173/1173 [03:30<00:00,  5.56it/s]\n",
            "evaluating...: 100%|██████████| 391/391 [00:56<00:00,  6.87it/s]\n"
          ]
        },
        {
          "output_type": "stream",
          "name": "stdout",
          "text": [
            "Epoch: [36/50]\n",
            "Train Loss: 0.7702\tValid Loss: 0.8578\n"
          ]
        },
        {
          "output_type": "stream",
          "name": "stderr",
          "text": [
            "training...: 100%|██████████| 1173/1173 [03:31<00:00,  5.54it/s]\n",
            "evaluating...: 100%|██████████| 391/391 [00:57<00:00,  6.77it/s]\n"
          ]
        },
        {
          "output_type": "stream",
          "name": "stdout",
          "text": [
            "Epoch: [37/50]\n",
            "Train Loss: 0.7683\tValid Loss: 0.8580\n"
          ]
        },
        {
          "output_type": "stream",
          "name": "stderr",
          "text": [
            "training...: 100%|██████████| 1173/1173 [03:29<00:00,  5.61it/s]\n",
            "evaluating...: 100%|██████████| 391/391 [00:54<00:00,  7.14it/s]\n"
          ]
        },
        {
          "output_type": "stream",
          "name": "stdout",
          "text": [
            "Epoch: [38/50]\n",
            "Train Loss: 0.7663\tValid Loss: 0.8611\n"
          ]
        },
        {
          "output_type": "stream",
          "name": "stderr",
          "text": [
            "training...: 100%|██████████| 1173/1173 [03:26<00:00,  5.69it/s]\n",
            "evaluating...: 100%|██████████| 391/391 [00:56<00:00,  6.96it/s]\n"
          ]
        },
        {
          "output_type": "stream",
          "name": "stdout",
          "text": [
            "Epoch: [39/50]\n",
            "Train Loss: 0.7648\tValid Loss: 0.8565\n"
          ]
        },
        {
          "output_type": "stream",
          "name": "stderr",
          "text": [
            "training...: 100%|██████████| 1173/1173 [03:26<00:00,  5.69it/s]\n",
            "evaluating...: 100%|██████████| 391/391 [00:55<00:00,  7.10it/s]\n"
          ]
        },
        {
          "output_type": "stream",
          "name": "stdout",
          "text": [
            "Epoch: [40/50]\n",
            "Train Loss: 0.7630\tValid Loss: 0.8601\n"
          ]
        },
        {
          "output_type": "stream",
          "name": "stderr",
          "text": [
            "training...: 100%|██████████| 1173/1173 [03:26<00:00,  5.67it/s]\n",
            "evaluating...: 100%|██████████| 391/391 [00:55<00:00,  7.10it/s]\n"
          ]
        },
        {
          "output_type": "stream",
          "name": "stdout",
          "text": [
            "Epoch: [41/50]\n",
            "Train Loss: 0.7612\tValid Loss: 0.8601\n"
          ]
        },
        {
          "output_type": "stream",
          "name": "stderr",
          "text": [
            "training...: 100%|██████████| 1173/1173 [03:23<00:00,  5.76it/s]\n",
            "evaluating...: 100%|██████████| 391/391 [00:53<00:00,  7.26it/s]\n"
          ]
        },
        {
          "output_type": "stream",
          "name": "stdout",
          "text": [
            "Epoch: [42/50]\n",
            "Train Loss: 0.7595\tValid Loss: 0.8604\n"
          ]
        },
        {
          "output_type": "stream",
          "name": "stderr",
          "text": [
            "training...: 100%|██████████| 1173/1173 [03:23<00:00,  5.75it/s]\n",
            "evaluating...: 100%|██████████| 391/391 [00:54<00:00,  7.14it/s]\n"
          ]
        },
        {
          "output_type": "stream",
          "name": "stdout",
          "text": [
            "Epoch: [43/50]\n",
            "Train Loss: 0.7581\tValid Loss: 0.8591\n"
          ]
        },
        {
          "output_type": "stream",
          "name": "stderr",
          "text": [
            "training...: 100%|██████████| 1173/1173 [03:24<00:00,  5.74it/s]\n",
            "evaluating...: 100%|██████████| 391/391 [00:53<00:00,  7.27it/s]\n"
          ]
        },
        {
          "output_type": "stream",
          "name": "stdout",
          "text": [
            "Epoch: [44/50]\n",
            "Train Loss: 0.7567\tValid Loss: 0.8589\n"
          ]
        },
        {
          "output_type": "stream",
          "name": "stderr",
          "text": [
            "training...: 100%|██████████| 1173/1173 [03:25<00:00,  5.72it/s]\n",
            "evaluating...: 100%|██████████| 391/391 [00:54<00:00,  7.18it/s]\n"
          ]
        },
        {
          "output_type": "stream",
          "name": "stdout",
          "text": [
            "Epoch: [45/50]\n",
            "Train Loss: 0.7551\tValid Loss: 0.8593\n"
          ]
        },
        {
          "output_type": "stream",
          "name": "stderr",
          "text": [
            "training...: 100%|██████████| 1173/1173 [03:25<00:00,  5.71it/s]\n",
            "evaluating...: 100%|██████████| 391/391 [00:55<00:00,  7.08it/s]\n"
          ]
        },
        {
          "output_type": "stream",
          "name": "stdout",
          "text": [
            "Epoch: [46/50]\n",
            "Train Loss: 0.7540\tValid Loss: 0.8616\n"
          ]
        },
        {
          "output_type": "stream",
          "name": "stderr",
          "text": [
            "training...: 100%|██████████| 1173/1173 [03:25<00:00,  5.70it/s]\n",
            "evaluating...: 100%|██████████| 391/391 [00:53<00:00,  7.26it/s]\n"
          ]
        },
        {
          "output_type": "stream",
          "name": "stdout",
          "text": [
            "Epoch: [47/50]\n",
            "Train Loss: 0.7530\tValid Loss: 0.8626\n"
          ]
        },
        {
          "output_type": "stream",
          "name": "stderr",
          "text": [
            "training...: 100%|██████████| 1173/1173 [03:23<00:00,  5.76it/s]\n",
            "evaluating...: 100%|██████████| 391/391 [00:53<00:00,  7.25it/s]\n"
          ]
        },
        {
          "output_type": "stream",
          "name": "stdout",
          "text": [
            "Epoch: [48/50]\n",
            "Train Loss: 0.7523\tValid Loss: 0.8624\n"
          ]
        },
        {
          "output_type": "stream",
          "name": "stderr",
          "text": [
            "training...: 100%|██████████| 1173/1173 [03:24<00:00,  5.74it/s]\n",
            "evaluating...: 100%|██████████| 391/391 [00:54<00:00,  7.12it/s]\n"
          ]
        },
        {
          "output_type": "stream",
          "name": "stdout",
          "text": [
            "Epoch: [49/50]\n",
            "Train Loss: 0.7518\tValid Loss: 0.8663\n"
          ]
        },
        {
          "output_type": "stream",
          "name": "stderr",
          "text": [
            "training...: 100%|██████████| 1173/1173 [03:26<00:00,  5.68it/s]\n",
            "evaluating...: 100%|██████████| 391/391 [00:55<00:00,  7.07it/s]"
          ]
        },
        {
          "output_type": "stream",
          "name": "stdout",
          "text": [
            "Epoch: [50/50]\n",
            "Train Loss: 0.7520\tValid Loss: 0.8631\n"
          ]
        },
        {
          "output_type": "stream",
          "name": "stderr",
          "text": [
            "\n"
          ]
        }
      ],
      "source": [
        "results = graph_train(args, models, train_loader, valid_loader, optimizer, criterion)"
      ]
    },
    {
      "cell_type": "code",
      "execution_count": null,
      "metadata": {
        "colab": {
          "base_uri": "https://localhost:8080/"
        },
        "id": "0BN6gR6b2SrX",
        "outputId": "9d9e2cfe-a8e8-4686-c222-1fc06fe25718"
      },
      "outputs": [
        {
          "data": {
            "text/plain": [
              "['sm_37', 'sm_50', 'sm_60', 'sm_70', 'sm_75', 'sm_80', 'sm_86', 'sm_90']"
            ]
          },
          "execution_count": 20,
          "metadata": {},
          "output_type": "execute_result"
        }
      ],
      "source": [
        "torch.cuda.get_arch_list()"
      ]
    },
    {
      "cell_type": "code",
      "execution_count": null,
      "metadata": {
        "id": "ona8ELUg2SrX"
      },
      "outputs": [],
      "source": []
    }
  ],
  "metadata": {
    "accelerator": "GPU",
    "colab": {
      "provenance": [],
      "gpuType": "T4"
    },
    "kernelspec": {
      "display_name": "Python 3",
      "name": "python3"
    },
    "language_info": {
      "codemirror_mode": {
        "name": "ipython",
        "version": 3
      },
      "file_extension": ".py",
      "mimetype": "text/x-python",
      "name": "python",
      "nbconvert_exporter": "python",
      "pygments_lexer": "ipython3",
      "version": "3.7.16"
    },
    "vscode": {
      "interpreter": {
        "hash": "d4d1e4263499bec80672ea0156c357c1ee493ec2b1c70f0acce89fc37c4a6abe"
      }
    }
  },
  "nbformat": 4,
  "nbformat_minor": 0
}