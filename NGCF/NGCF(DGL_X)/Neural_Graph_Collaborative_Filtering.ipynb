{
  "cells": [
    {
      "cell_type": "code",
      "execution_count": null,
      "metadata": {
        "id": "hKE5nzqY2SrP"
      },
      "outputs": [],
      "source": [
        "from tqdm import tqdm \n",
        "import os \n",
        "\n",
        "import numpy as np \n",
        "import pandas as pd\n",
        "\n",
        "import scipy.sparse  as sp \n",
        "\n",
        "from sklearn.model_selection import train_test_split \n",
        "\n",
        "import torch \n",
        "from torch import nn, optim \n",
        "from torch.utils.data import Dataset, DataLoader "
      ]
    },
    {
      "cell_type": "markdown",
      "source": [
        "모델 하이퍼파라미터\n",
        "\n",
        "\n",
        "\n",
        "layer : 3층, batch size : 512"
      ],
      "metadata": {
        "id": "rIWjwpgu47d-"
      }
    },
    {
      "cell_type": "code",
      "execution_count": null,
      "metadata": {
        "id": "IXLeESD82SrR"
      },
      "outputs": [],
      "source": [
        "class args:\n",
        "    seed = 42\n",
        "    num_layers = 3\n",
        "    batch_size= 512\n",
        "    device = 'cuda' if torch.cuda.is_available() else 'cpu'\n",
        "    SAVE_PATH = 'Parameters'"
      ]
    },
    {
      "cell_type": "code",
      "execution_count": null,
      "metadata": {
        "colab": {
          "base_uri": "https://localhost:8080/"
        },
        "id": "Wh6jK1_92SrS",
        "outputId": "88ca63d1-12af-48e2-9cbe-de144a23b121"
      },
      "outputs": [
        {
          "name": "stderr",
          "output_type": "stream",
          "text": [
            "<ipython-input-4-e0068a5e4b0c>:1: ParserWarning: Falling back to the 'python' engine because the 'c' engine does not support regex separators (separators > 1 char and different from '\\s+' are interpreted as regex); you can avoid this warning by specifying engine='python'.\n",
            "  d_set = pd.read_csv('ratings.dat', sep='::', names=['user_id','business_id','stars','ts'], encoding='latin-1',header=None)\n"
          ]
        }
      ],
      "source": [
        "d_set = pd.read_csv('ratings.dat', sep='::', names=['user_id','business_id','stars','ts'], encoding='latin-1',header=None)\n",
        "d_set = d_set.drop(columns=['ts'])"
      ]
    },
    {
      "cell_type": "code",
      "execution_count": null,
      "metadata": {
        "id": "Qekorfxd2SrS"
      },
      "outputs": [],
      "source": [
        "d_train, d_test = train_test_split(d_set, train_size=0.6, random_state=args.seed)\n",
        "d_valid, d_test = train_test_split(d_test, train_size=0.5, random_state=args.seed)"
      ]
    },
    {
      "cell_type": "markdown",
      "source": [
        "user id와 item id 범주형으로 변경"
      ],
      "metadata": {
        "id": "rDFYLb9c5tHj"
      }
    },
    {
      "cell_type": "code",
      "execution_count": null,
      "metadata": {
        "id": "cL-lRSH-2SrS"
      },
      "outputs": [],
      "source": [
        "d_train = d_train.astype({'user_id':'category', 'business_id':'category'})\n",
        "d_valid = d_valid.astype({'user_id':'category', 'business_id':'category'})\n",
        "d_test = d_test.astype({'user_id':'category', 'business_id':'category'})"
      ]
    },
    {
      "cell_type": "code",
      "execution_count": null,
      "metadata": {
        "id": "v4bkMkyU2SrS"
      },
      "outputs": [],
      "source": [
        "u_cat = d_train.user_id.cat.categories\n",
        "b_cat = d_train.business_id.cat.categories"
      ]
    },
    {
      "cell_type": "markdown",
      "source": [
        "set_categories 통해 train data에 있는 카테고리 valid data에 생성"
      ],
      "metadata": {
        "id": "YjVEW4Yk6xVc"
      }
    },
    {
      "cell_type": "code",
      "execution_count": null,
      "metadata": {
        "id": "nV0x8d3I2SrT"
      },
      "outputs": [],
      "source": [
        "d_valid.user_id = d_valid.user_id.cat.set_categories(u_cat)\n",
        "d_valid.business_id = d_valid.business_id.cat.set_categories(b_cat)\n",
        "\n",
        "d_test.user_id = d_test.user_id.cat.set_categories(u_cat)\n",
        "d_test.business_id = d_test.business_id.cat.set_categories(b_cat)"
      ]
    },
    {
      "cell_type": "markdown",
      "source": [
        "codes 통해 user id와 item id 숫자 변환"
      ],
      "metadata": {
        "id": "TVLV5Drc69zr"
      }
    },
    {
      "cell_type": "code",
      "execution_count": null,
      "metadata": {
        "id": "ZU_w8ycZ2SrT"
      },
      "outputs": [],
      "source": [
        "d_train.user_id = d_train.user_id.cat.codes\n",
        "d_train.business_id = d_train.business_id.cat.codes \n",
        "\n",
        "d_valid.user_id = d_valid.user_id.cat.codes\n",
        "d_valid.business_id = d_valid.business_id.cat.codes \n",
        "\n",
        "d_test.user_id = d_test.user_id.cat.codes\n",
        "d_test.business_id = d_test.business_id.cat.codes "
      ]
    },
    {
      "cell_type": "code",
      "execution_count": null,
      "metadata": {
        "id": "uiJu5gtJ2SrT"
      },
      "outputs": [],
      "source": [
        "d_train = d_train.dropna()\n",
        "d_valid = d_valid.dropna()\n",
        "d_test = d_test.dropna()\n",
        "\n",
        "d_train.reset_index(drop=True, inplace=True)\n",
        "d_valid.reset_index(drop=True, inplace=True)\n",
        "d_test.reset_index(drop=True, inplace=True)"
      ]
    },
    {
      "cell_type": "code",
      "execution_count": null,
      "metadata": {
        "id": "Ay3ZfUww2SrT"
      },
      "outputs": [],
      "source": [
        "d_train = d_train.astype({'user_id': int, 'business_id': int})\n",
        "d_valid = d_valid.astype({'user_id': int, 'business_id': int})\n",
        "d_test = d_test.astype({'user_id': int, 'business_id': int})"
      ]
    },
    {
      "cell_type": "code",
      "execution_count": null,
      "metadata": {
        "id": "ywuPffx-2SrU"
      },
      "outputs": [],
      "source": [
        "args.num_users = d_train.user_id.max() + 1\n",
        "args.num_items = d_train.business_id.max() + 1\n",
        "args.latent_dim = 64\n",
        "args.num_epochs = 50"
      ]
    },
    {
      "cell_type": "markdown",
      "source": [
        "torch.nn.module : PyTorch의 모든 Neural Network의 Base Class\n",
        "\n",
        "nn.Module을 상속받아서 기본적인 기능들을 사용할 수 있게 만들어줌\n",
        "\n",
        "Massage Passing 단계 (Message Construction 및 Message Aggregation)\n",
        "\n",
        "\n",
        "![image.png](data:image/png;base64,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)\n",
        "\n",
        "\n",
        "코드를 실행시킬 때에는 행렬 형태로 변환하고 계산하기 때문에 계산의 효율성 문제로 행렬로 변환\n",
        "![image.png](data:image/png;base64,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)\n"
      ],
      "metadata": {
        "id": "oSK85r0NBc6q"
      }
    },
    {
      "cell_type": "code",
      "source": [
        "class GNNLayer(nn.Module):\n",
        "    def __init__(self, in_feats, out_feats):\n",
        "        super(GNNLayer, self).__init__()\n",
        "        self.in_feats = in_feats\n",
        "        self.out_feats = out_feats \n",
        "\n",
        "        self.W1 = nn.Linear(in_feats, out_feats)\n",
        "        self.W2 = nn.Linear(in_feats, out_feats)\n",
        "\n",
        "    def forward(self, L, SelfLoop, feats):\n",
        "        # (L+I)EW_1\n",
        "        sf_L = L + SelfLoop\n",
        "        L = L.cuda()  # .cuda() -> GPU 활용\n",
        "        sf_L = sf_L.cuda() \n",
        "        sf_E = torch.sparse.mm(sf_L, feats)  # sparse 행렬 coo or csr 형식으로 메모리 절약, mm -> 행렬곱(matmul과 다른점은  broadcast 기능을 제공해주기 때문에 도리어 debug point가 될 수 있다.)\n",
        "        left_part = self.W1(sf_E) # left part\n",
        "\n",
        "        # EL odot EW_2, odot indicates element-wise product \n",
        "        LE = torch.sparse.mm(L, feats)\n",
        "        E = torch.mul(LE, feats)\n",
        "        right_part = self.W2(E)\n",
        "\n",
        "        return left_part + right_part "
      ],
      "metadata": {
        "id": "74KDWDWqBaGV"
      },
      "execution_count": null,
      "outputs": []
    },
    {
      "cell_type": "markdown",
      "source": [
        "nn.Embedding()을 통해 user와 item embedding 생성(룩업테이블)\n",
        "\n",
        "LaplacianMatrix\n",
        "\n",
        "![image.png](data:image/png;base64,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)\n",
        "\n",
        "Upper Matrix는 [0, R]로 표현된 행렬의 윗 부분을 만들기 위함이고, Lower Matrix는 그 아래의 [R, 0]행렬 부분을 만들기 위함. \n",
        "\n",
        "그 후 vstack 함수를 사용해 합친 후 Diagonal Matrix와 Adjacency Matrix를 곱해 Laplacian Matrix를 생성.\n"
      ],
      "metadata": {
        "id": "F4Reyag9towg"
      }
    },
    {
      "cell_type": "code",
      "execution_count": 1,
      "metadata": {
        "id": "kWacMu7k2SrU",
        "colab": {
          "base_uri": "https://localhost:8080/",
          "height": 248
        },
        "outputId": "ad39905f-406d-49dd-d8b4-0c0afe235094"
      },
      "outputs": [
        {
          "output_type": "error",
          "ename": "NameError",
          "evalue": "ignored",
          "traceback": [
            "\u001b[0;31m---------------------------------------------------------------------------\u001b[0m",
            "\u001b[0;31mNameError\u001b[0m                                 Traceback (most recent call last)",
            "\u001b[0;32m<ipython-input-1-668d0268d356>\u001b[0m in \u001b[0;36m<cell line: 1>\u001b[0;34m()\u001b[0m\n\u001b[0;32m----> 1\u001b[0;31m \u001b[0;32mclass\u001b[0m \u001b[0mGNNLayer\u001b[0m\u001b[0;34m(\u001b[0m\u001b[0mnn\u001b[0m\u001b[0;34m.\u001b[0m\u001b[0mModule\u001b[0m\u001b[0;34m)\u001b[0m\u001b[0;34m:\u001b[0m\u001b[0;34m\u001b[0m\u001b[0;34m\u001b[0m\u001b[0m\n\u001b[0m\u001b[1;32m      2\u001b[0m     \u001b[0;32mdef\u001b[0m \u001b[0m__init__\u001b[0m\u001b[0;34m(\u001b[0m\u001b[0mself\u001b[0m\u001b[0;34m,\u001b[0m \u001b[0min_feats\u001b[0m\u001b[0;34m,\u001b[0m \u001b[0mout_feats\u001b[0m\u001b[0;34m)\u001b[0m\u001b[0;34m:\u001b[0m\u001b[0;34m\u001b[0m\u001b[0;34m\u001b[0m\u001b[0m\n\u001b[1;32m      3\u001b[0m         \u001b[0msuper\u001b[0m\u001b[0;34m(\u001b[0m\u001b[0mGNNLayer\u001b[0m\u001b[0;34m,\u001b[0m \u001b[0mself\u001b[0m\u001b[0;34m)\u001b[0m\u001b[0;34m.\u001b[0m\u001b[0m__init__\u001b[0m\u001b[0;34m(\u001b[0m\u001b[0;34m)\u001b[0m\u001b[0;34m\u001b[0m\u001b[0;34m\u001b[0m\u001b[0m\n\u001b[1;32m      4\u001b[0m         \u001b[0mself\u001b[0m\u001b[0;34m.\u001b[0m\u001b[0min_feats\u001b[0m \u001b[0;34m=\u001b[0m \u001b[0min_feats\u001b[0m\u001b[0;34m\u001b[0m\u001b[0;34m\u001b[0m\u001b[0m\n\u001b[1;32m      5\u001b[0m         \u001b[0mself\u001b[0m\u001b[0;34m.\u001b[0m\u001b[0mout_feats\u001b[0m \u001b[0;34m=\u001b[0m \u001b[0mout_feats\u001b[0m\u001b[0;34m\u001b[0m\u001b[0;34m\u001b[0m\u001b[0m\n",
            "\u001b[0;31mNameError\u001b[0m: name 'nn' is not defined"
          ]
        }
      ],
      "source": [
        "class NGCF(nn.Module):\n",
        "    def __init__(self, args, matrix):\n",
        "        super(NGCF, self).__init__()\n",
        "        self.num_users = args.num_users \n",
        "        self.num_items = args.num_items \n",
        "        self.latent_dim = args.latent_dim \n",
        "        self.device = args.device\n",
        "\n",
        "        self.user_emb = nn.Embedding(self.num_users, self.latent_dim)\n",
        "        self.item_emb = nn.Embedding(self.num_items, self.latent_dim)\n",
        "\n",
        "        self.num_layers = args.num_layers\n",
        "        self.L = self.LaplacianMatrix(matrix)\n",
        "        self.I = self.SelfLoop(self.num_users + self.num_items)\n",
        "\n",
        "        self.leakyrelu = nn.LeakyReLU()\n",
        "        self.GNNLayers = nn.ModuleList()\n",
        "\n",
        "        for i in range(self.num_layers-1):\n",
        "            self.GNNLayers.append(GNNLayer(self.latent_dim, self.latent_dim))\n",
        "\n",
        "        self.fc_layer = nn.Sequential(\n",
        "            nn.Linear(self.latent_dim * self.num_layers * 2, 64), \n",
        "            nn.ReLU(), \n",
        "            nn.Linear(64, 32), \n",
        "            nn.ReLU(), \n",
        "            nn.Linear(32, 1)\n",
        "        )\n",
        "\n",
        "    def SelfLoop(self, num):\n",
        "        i = torch.LongTensor([[k for k in range(0, num)], [j for j in range(0, num)]]) # torch.LongTensor 정수형\n",
        "        val = torch.FloatTensor([1]*num)\n",
        "        return torch.sparse.FloatTensor(i, val)\n",
        "\n",
        "    def LaplacianMatrix(self, ratings):\n",
        "        iids = ratings['business_id'] + self.num_users \n",
        "        matrix = sp.coo_matrix((ratings['stars'], (ratings['user_id'], ratings['business_id'])))\n",
        "        \n",
        "        upper_matrix = sp.coo_matrix((ratings['stars'], (ratings['user_id'], iids)))\n",
        "        lower_matrix = matrix.transpose()\n",
        "        lower_matrix.resize((self.num_items, self.num_users + self.num_items))\n",
        "\n",
        "        A = sp.vstack([upper_matrix, lower_matrix])\n",
        "        row_sum = (A > 0).sum(axis=1)\n",
        "        # row_sum = np.array(row_sum).flatten()\n",
        "        diag = list(np.array(row_sum.flatten())[0])\n",
        "        D = np.power(diag, -0.5)\n",
        "        D = sp.diags(D)\n",
        "        L = D * A * D\n",
        "        L = sp.coo_matrix(L)\n",
        "        row = L.row \n",
        "        col = L.col\n",
        "        idx = np.stack([row, col])\n",
        "        idx = torch.LongTensor(idx)\n",
        "        data = torch.FloatTensor(L.data)\n",
        "        SparseL = torch.sparse.FloatTensor(idx, data)\n",
        "        return SparseL \n",
        "\n",
        "    def FeatureMatrix(self):\n",
        "        uids = torch.LongTensor([i for i in range(self.num_users)]).to(self.device)\n",
        "        iids = torch.LongTensor([i for i in range(self.num_items)]).to(self.device)\n",
        "        user_emb = self.user_emb(uids)\n",
        "        item_emb = self.item_emb(iids)\n",
        "        features = torch.cat([user_emb, item_emb], dim=0)  # torch.cat으로 텐서 user_emb과 item_emb 쌓음\n",
        "        return features\n",
        "\n",
        "    def forward(self, uids, iids):\n",
        "        iids = self.num_users + iids \n",
        "\n",
        "        features = self.FeatureMatrix()\n",
        "        final_emb = features.clone()\n",
        "\n",
        "        for gnn in self.GNNLayers:\n",
        "            features = gnn(self.L, self.I, features)\n",
        "            features = self.leakyrelu(features)\n",
        "            final_emb = torch.concat([final_emb, features],dim=-1)\n",
        "\n",
        "        user_emb = final_emb[uids]\n",
        "        item_emb = final_emb[iids]\n",
        "\n",
        "        inputs = torch.concat([user_emb, item_emb], dim=-1)\n",
        "        outs = self.fc_layer(inputs)\n",
        "        return outs.flatten()"
      ]
    },
    {
      "cell_type": "markdown",
      "source": [
        "DataLoader\n",
        "\n",
        "GraphDataset이라는 클래스로 user, item, rating 데이터의 길이와 인덱스를 지정해줌"
      ],
      "metadata": {
        "id": "uGzIRBfppTbI"
      }
    },
    {
      "cell_type": "code",
      "execution_count": null,
      "metadata": {
        "id": "nWAAOhWf2SrV"
      },
      "outputs": [],
      "source": [
        "class GraphDataset(Dataset):\n",
        "    def __init__(self, dataframe):\n",
        "        super(Dataset, self).__init__()\n",
        "        \n",
        "        self.uid = list(dataframe['user_id'])\n",
        "        self.iid = list(dataframe['business_id'])\n",
        "        self.ratings = list(dataframe['stars'])\n",
        "    \n",
        "    def __len__(self):\n",
        "        return len(self.uid)\n",
        "    \n",
        "    def __getitem__(self, idx):\n",
        "        uid = self.uid[idx]\n",
        "        iid = self.iid[idx]\n",
        "        rating = self.ratings[idx]\n",
        "        \n",
        "        return (uid, iid, rating)"
      ]
    },
    {
      "cell_type": "markdown",
      "source": [
        "DataLoader 통해서 batch size, num_workers 지정"
      ],
      "metadata": {
        "id": "zWal4IvYqf5R"
      }
    },
    {
      "cell_type": "code",
      "execution_count": null,
      "metadata": {
        "id": "9Ei6g57T2SrV"
      },
      "outputs": [],
      "source": [
        "def get_loader(args, dataset, num_workers):\n",
        "    d_set = GraphDataset(dataset)\n",
        "    return DataLoader(d_set, batch_size=args.batch_size, num_workers=num_workers)"
      ]
    },
    {
      "cell_type": "code",
      "execution_count": null,
      "metadata": {
        "colab": {
          "base_uri": "https://localhost:8080/"
        },
        "id": "pEAKyCaT2SrV",
        "outputId": "e03ee455-5d30-4997-c86c-8b6e0a44b2b0"
      },
      "outputs": [
        {
          "name": "stderr",
          "output_type": "stream",
          "text": [
            "/usr/local/lib/python3.10/dist-packages/torch/utils/data/dataloader.py:561: UserWarning: This DataLoader will create 4 worker processes in total. Our suggested max number of worker in current system is 2, which is smaller than what this DataLoader is going to create. Please be aware that excessive worker creation might get DataLoader running slow or even freeze, lower the worker number to avoid potential slowness/freeze if necessary.\n",
            "  warnings.warn(_create_warning_msg(\n"
          ]
        }
      ],
      "source": [
        "train_loader = get_loader(args, d_train, 4)\n",
        "valid_loader = get_loader(args, d_valid, 4)\n",
        "test_loader = get_loader(args, d_test, 4)"
      ]
    },
    {
      "cell_type": "code",
      "execution_count": null,
      "metadata": {
        "id": "p90stnoQ2SrV"
      },
      "outputs": [],
      "source": [
        "def graph_evaluate(args, model, test_loader, criterion):\n",
        "    output = []\n",
        "    test_loss = 0\n",
        "\n",
        "    model.eval()\n",
        "    with torch.no_grad():\n",
        "        for batch in tqdm(test_loader, desc='evaluating...'):\n",
        "            batch = tuple(b.to(args.device) for b in batch)\n",
        "            inputs = {'uids':   batch[0], \n",
        "                      'iids':   batch[1]}\n",
        "            gold_y = batch[2].float()\n",
        "            \n",
        "            pred_y = model(**inputs)\n",
        "            output.append(pred_y)\n",
        "            \n",
        "            loss = criterion(pred_y, gold_y)\n",
        "            loss = torch.sqrt(loss)\n",
        "            test_loss += loss.item()\n",
        "    test_loss /= len(test_loader)\n",
        "    return test_loss, output"
      ]
    },
    {
      "cell_type": "code",
      "execution_count": null,
      "metadata": {
        "id": "MtdUcB9B2SrW"
      },
      "outputs": [],
      "source": [
        "def graph_train(args, model, train_loader, valid_loader, optimizer, criterion):\n",
        "    best_loss = float('inf')\n",
        "    train_losses, valid_losses = [], []\n",
        "    for epoch in range(1, args.num_epochs + 1):\n",
        "        train_loss = 0.0\n",
        "\n",
        "        model.train()\n",
        "        for batch in tqdm(train_loader, desc='training...'):\n",
        "            batch = tuple(b.to(args.device) for b in batch)\n",
        "            inputs = {'uids':   batch[0], \n",
        "                      'iids':   batch[1]}\n",
        "            \n",
        "            gold_y = batch[2].float()\n",
        "            \n",
        "\n",
        "            pred_y = model(**inputs)\n",
        "            \n",
        "            loss = criterion(pred_y, gold_y)\n",
        "            loss = torch.sqrt(loss)\n",
        "            optimizer.zero_grad()\n",
        "            loss.backward()\n",
        "            optimizer.step()\n",
        "            train_loss += loss.item()\n",
        "        train_loss /= len(train_loader)\n",
        "        train_losses.append(train_loss)\n",
        "\n",
        "        valid_loss , outputs = graph_evaluate(args, model, valid_loader, criterion)\n",
        "        valid_losses.append(valid_loss)\n",
        "        \n",
        "\n",
        "        print(f'Epoch: [{epoch}/{args.num_epochs}]')\n",
        "        print(f'Train Loss: {train_loss:.4f}\\tValid Loss: {valid_loss:.4f}')\n",
        "\n",
        "        if best_loss > valid_loss:\n",
        "            best_loss = valid_loss\n",
        "            if not os.path.exists(args.SAVE_PATH):\n",
        "                os.makedirs(args.SAVE_PATH)\n",
        "            torch.save(model.state_dict(), os.path.join(args.SAVE_PATH, f'{model._get_name()}_parameters.pt'))\n",
        "\n",
        "    return {\n",
        "        'train_loss': train_losses, \n",
        "        'valid_loss': valid_losses\n",
        "    }, outputs"
      ]
    },
    {
      "cell_type": "code",
      "execution_count": null,
      "metadata": {
        "id": "HdoYFesy2SrW"
      },
      "outputs": [],
      "source": [
        "models = NGCF(args, d_train).to(args.device)\n",
        "\n",
        "optimizer = optim.Adam(models.parameters(), lr = 1e-3)\n",
        "criterion = nn.L1Loss()"
      ]
    },
    {
      "cell_type": "code",
      "execution_count": null,
      "metadata": {
        "colab": {
          "background_save": true,
          "base_uri": "https://localhost:8080/"
        },
        "id": "h-uydHkQ2SrW",
        "outputId": "2a1e6c43-9dec-43d9-c272-227fecffd455"
      },
      "outputs": [
        {
          "name": "stderr",
          "output_type": "stream",
          "text": [
            "training...: 100%|██████████| 753/753 [01:26<00:00,  8.66it/s]\n",
            "evaluating...: 100%|██████████| 251/251 [00:23<00:00, 10.76it/s]\n"
          ]
        },
        {
          "name": "stdout",
          "output_type": "stream",
          "text": [
            "Epoch: [1/50]\n",
            "Train Loss: 0.7521\tValid Loss: 0.8710\n"
          ]
        },
        {
          "name": "stderr",
          "output_type": "stream",
          "text": [
            "training...: 100%|██████████| 753/753 [01:26<00:00,  8.69it/s]\n",
            "evaluating...: 100%|██████████| 251/251 [00:22<00:00, 11.13it/s]\n"
          ]
        },
        {
          "name": "stdout",
          "output_type": "stream",
          "text": [
            "Epoch: [2/50]\n",
            "Train Loss: 0.7503\tValid Loss: 0.8731\n"
          ]
        },
        {
          "name": "stderr",
          "output_type": "stream",
          "text": [
            "training...: 100%|██████████| 753/753 [01:26<00:00,  8.67it/s]\n",
            "evaluating...: 100%|██████████| 251/251 [00:23<00:00, 10.74it/s]\n"
          ]
        },
        {
          "name": "stdout",
          "output_type": "stream",
          "text": [
            "Epoch: [3/50]\n",
            "Train Loss: 0.7488\tValid Loss: 0.8761\n"
          ]
        },
        {
          "name": "stderr",
          "output_type": "stream",
          "text": [
            "training...: 100%|██████████| 753/753 [01:26<00:00,  8.66it/s]\n",
            "evaluating...: 100%|██████████| 251/251 [00:23<00:00, 10.81it/s]\n"
          ]
        },
        {
          "name": "stdout",
          "output_type": "stream",
          "text": [
            "Epoch: [4/50]\n",
            "Train Loss: 0.7476\tValid Loss: 0.8775\n"
          ]
        },
        {
          "name": "stderr",
          "output_type": "stream",
          "text": [
            "training...: 100%|██████████| 753/753 [01:26<00:00,  8.66it/s]\n",
            "evaluating...: 100%|██████████| 251/251 [00:23<00:00, 10.87it/s]\n"
          ]
        },
        {
          "name": "stdout",
          "output_type": "stream",
          "text": [
            "Epoch: [5/50]\n",
            "Train Loss: 0.7465\tValid Loss: 0.8763\n"
          ]
        },
        {
          "name": "stderr",
          "output_type": "stream",
          "text": [
            "training...: 100%|██████████| 753/753 [01:26<00:00,  8.72it/s]\n",
            "evaluating...: 100%|██████████| 251/251 [00:22<00:00, 11.25it/s]\n"
          ]
        },
        {
          "name": "stdout",
          "output_type": "stream",
          "text": [
            "Epoch: [6/50]\n",
            "Train Loss: 0.7456\tValid Loss: 0.8762\n"
          ]
        },
        {
          "name": "stderr",
          "output_type": "stream",
          "text": [
            "training...: 100%|██████████| 753/753 [01:26<00:00,  8.73it/s]\n",
            "evaluating...: 100%|██████████| 251/251 [00:23<00:00, 10.90it/s]\n"
          ]
        },
        {
          "name": "stdout",
          "output_type": "stream",
          "text": [
            "Epoch: [7/50]\n",
            "Train Loss: 0.7447\tValid Loss: 0.8775\n"
          ]
        },
        {
          "name": "stderr",
          "output_type": "stream",
          "text": [
            "training...: 100%|██████████| 753/753 [01:26<00:00,  8.72it/s]\n",
            "evaluating...: 100%|██████████| 251/251 [00:23<00:00, 10.72it/s]\n"
          ]
        },
        {
          "name": "stdout",
          "output_type": "stream",
          "text": [
            "Epoch: [8/50]\n",
            "Train Loss: 0.7437\tValid Loss: 0.8781\n"
          ]
        },
        {
          "name": "stderr",
          "output_type": "stream",
          "text": [
            "training...: 100%|██████████| 753/753 [01:27<00:00,  8.64it/s]\n",
            "evaluating...: 100%|██████████| 251/251 [00:23<00:00, 10.77it/s]\n"
          ]
        },
        {
          "name": "stdout",
          "output_type": "stream",
          "text": [
            "Epoch: [9/50]\n",
            "Train Loss: 0.7425\tValid Loss: 0.8778\n"
          ]
        },
        {
          "name": "stderr",
          "output_type": "stream",
          "text": [
            "training...: 100%|██████████| 753/753 [01:26<00:00,  8.70it/s]\n",
            "evaluating...: 100%|██████████| 251/251 [00:22<00:00, 10.96it/s]\n"
          ]
        },
        {
          "name": "stdout",
          "output_type": "stream",
          "text": [
            "Epoch: [10/50]\n",
            "Train Loss: 0.7417\tValid Loss: 0.8783\n"
          ]
        },
        {
          "name": "stderr",
          "output_type": "stream",
          "text": [
            "training...: 100%|██████████| 753/753 [01:26<00:00,  8.67it/s]\n",
            "evaluating...: 100%|██████████| 251/251 [00:23<00:00, 10.88it/s]\n"
          ]
        },
        {
          "name": "stdout",
          "output_type": "stream",
          "text": [
            "Epoch: [11/50]\n",
            "Train Loss: 0.7406\tValid Loss: 0.8812\n"
          ]
        },
        {
          "name": "stderr",
          "output_type": "stream",
          "text": [
            "training...: 100%|██████████| 753/753 [01:26<00:00,  8.73it/s]\n",
            "evaluating...: 100%|██████████| 251/251 [00:23<00:00, 10.79it/s]\n"
          ]
        },
        {
          "name": "stdout",
          "output_type": "stream",
          "text": [
            "Epoch: [12/50]\n",
            "Train Loss: 0.7392\tValid Loss: 0.8811\n"
          ]
        },
        {
          "name": "stderr",
          "output_type": "stream",
          "text": [
            "training...: 100%|██████████| 753/753 [01:28<00:00,  8.47it/s]\n",
            "evaluating...: 100%|██████████| 251/251 [00:25<00:00, 10.02it/s]\n"
          ]
        },
        {
          "name": "stdout",
          "output_type": "stream",
          "text": [
            "Epoch: [13/50]\n",
            "Train Loss: 0.7382\tValid Loss: 0.8808\n"
          ]
        },
        {
          "name": "stderr",
          "output_type": "stream",
          "text": [
            "training...: 100%|██████████| 753/753 [01:29<00:00,  8.46it/s]\n",
            "evaluating...: 100%|██████████| 251/251 [00:24<00:00, 10.21it/s]\n"
          ]
        },
        {
          "name": "stdout",
          "output_type": "stream",
          "text": [
            "Epoch: [14/50]\n",
            "Train Loss: 0.7373\tValid Loss: 0.8821\n"
          ]
        },
        {
          "name": "stderr",
          "output_type": "stream",
          "text": [
            "training...: 100%|██████████| 753/753 [01:27<00:00,  8.57it/s]\n",
            "evaluating...: 100%|██████████| 251/251 [00:22<00:00, 10.95it/s]\n"
          ]
        },
        {
          "name": "stdout",
          "output_type": "stream",
          "text": [
            "Epoch: [15/50]\n",
            "Train Loss: 0.7362\tValid Loss: 0.8816\n"
          ]
        },
        {
          "name": "stderr",
          "output_type": "stream",
          "text": [
            "training...: 100%|██████████| 753/753 [01:25<00:00,  8.76it/s]\n",
            "evaluating...: 100%|██████████| 251/251 [00:22<00:00, 10.96it/s]\n"
          ]
        },
        {
          "name": "stdout",
          "output_type": "stream",
          "text": [
            "Epoch: [16/50]\n",
            "Train Loss: 0.7351\tValid Loss: 0.8807\n"
          ]
        },
        {
          "name": "stderr",
          "output_type": "stream",
          "text": [
            "training...: 100%|██████████| 753/753 [01:27<00:00,  8.63it/s]\n",
            "evaluating...: 100%|██████████| 251/251 [00:24<00:00, 10.38it/s]\n"
          ]
        },
        {
          "name": "stdout",
          "output_type": "stream",
          "text": [
            "Epoch: [17/50]\n",
            "Train Loss: 0.7340\tValid Loss: 0.8821\n"
          ]
        },
        {
          "name": "stderr",
          "output_type": "stream",
          "text": [
            "training...: 100%|██████████| 753/753 [01:28<00:00,  8.47it/s]\n",
            "evaluating...: 100%|██████████| 251/251 [00:23<00:00, 10.56it/s]\n"
          ]
        },
        {
          "name": "stdout",
          "output_type": "stream",
          "text": [
            "Epoch: [18/50]\n",
            "Train Loss: 0.7335\tValid Loss: 0.8812\n"
          ]
        },
        {
          "name": "stderr",
          "output_type": "stream",
          "text": [
            "training...: 100%|██████████| 753/753 [01:28<00:00,  8.53it/s]\n",
            "evaluating...: 100%|██████████| 251/251 [00:23<00:00, 10.64it/s]\n"
          ]
        },
        {
          "name": "stdout",
          "output_type": "stream",
          "text": [
            "Epoch: [19/50]\n",
            "Train Loss: 0.7330\tValid Loss: 0.8810\n"
          ]
        },
        {
          "name": "stderr",
          "output_type": "stream",
          "text": [
            "training...: 100%|██████████| 753/753 [01:27<00:00,  8.60it/s]\n",
            "evaluating...: 100%|██████████| 251/251 [00:23<00:00, 10.72it/s]\n"
          ]
        },
        {
          "name": "stdout",
          "output_type": "stream",
          "text": [
            "Epoch: [20/50]\n",
            "Train Loss: 0.7324\tValid Loss: 0.8821\n"
          ]
        },
        {
          "name": "stderr",
          "output_type": "stream",
          "text": [
            "training...: 100%|██████████| 753/753 [01:27<00:00,  8.65it/s]\n",
            "evaluating...: 100%|██████████| 251/251 [00:22<00:00, 11.29it/s]\n"
          ]
        },
        {
          "name": "stdout",
          "output_type": "stream",
          "text": [
            "Epoch: [21/50]\n",
            "Train Loss: 0.7320\tValid Loss: 0.8833\n"
          ]
        },
        {
          "name": "stderr",
          "output_type": "stream",
          "text": [
            "training...: 100%|██████████| 753/753 [01:24<00:00,  8.92it/s]\n",
            "evaluating...: 100%|██████████| 251/251 [00:21<00:00, 11.68it/s]\n"
          ]
        },
        {
          "name": "stdout",
          "output_type": "stream",
          "text": [
            "Epoch: [22/50]\n",
            "Train Loss: 0.7318\tValid Loss: 0.8847\n"
          ]
        },
        {
          "name": "stderr",
          "output_type": "stream",
          "text": [
            "training...: 100%|██████████| 753/753 [01:23<00:00,  8.97it/s]\n",
            "evaluating...: 100%|██████████| 251/251 [00:21<00:00, 11.56it/s]\n"
          ]
        },
        {
          "name": "stdout",
          "output_type": "stream",
          "text": [
            "Epoch: [23/50]\n",
            "Train Loss: 0.7309\tValid Loss: 0.8832\n"
          ]
        },
        {
          "name": "stderr",
          "output_type": "stream",
          "text": [
            "training...: 100%|██████████| 753/753 [01:23<00:00,  8.97it/s]\n",
            "evaluating...: 100%|██████████| 251/251 [00:21<00:00, 11.66it/s]\n"
          ]
        },
        {
          "name": "stdout",
          "output_type": "stream",
          "text": [
            "Epoch: [24/50]\n",
            "Train Loss: 0.7294\tValid Loss: 0.8834\n"
          ]
        },
        {
          "name": "stderr",
          "output_type": "stream",
          "text": [
            "training...: 100%|██████████| 753/753 [01:23<00:00,  9.04it/s]\n",
            "evaluating...: 100%|██████████| 251/251 [00:21<00:00, 11.56it/s]\n"
          ]
        },
        {
          "name": "stdout",
          "output_type": "stream",
          "text": [
            "Epoch: [25/50]\n",
            "Train Loss: 0.7275\tValid Loss: 0.8842\n"
          ]
        },
        {
          "name": "stderr",
          "output_type": "stream",
          "text": [
            "training...: 100%|██████████| 753/753 [01:23<00:00,  8.97it/s]\n",
            "evaluating...: 100%|██████████| 251/251 [00:22<00:00, 11.34it/s]\n"
          ]
        },
        {
          "name": "stdout",
          "output_type": "stream",
          "text": [
            "Epoch: [26/50]\n",
            "Train Loss: 0.7257\tValid Loss: 0.8854\n"
          ]
        },
        {
          "name": "stderr",
          "output_type": "stream",
          "text": [
            "training...: 100%|██████████| 753/753 [01:23<00:00,  9.03it/s]\n",
            "evaluating...: 100%|██████████| 251/251 [00:21<00:00, 11.50it/s]\n"
          ]
        },
        {
          "name": "stdout",
          "output_type": "stream",
          "text": [
            "Epoch: [27/50]\n",
            "Train Loss: 0.7241\tValid Loss: 0.8860\n"
          ]
        },
        {
          "name": "stderr",
          "output_type": "stream",
          "text": [
            "training...: 100%|██████████| 753/753 [01:23<00:00,  8.98it/s]\n",
            "evaluating...: 100%|██████████| 251/251 [00:22<00:00, 11.41it/s]\n"
          ]
        },
        {
          "name": "stdout",
          "output_type": "stream",
          "text": [
            "Epoch: [28/50]\n",
            "Train Loss: 0.7228\tValid Loss: 0.8870\n"
          ]
        },
        {
          "name": "stderr",
          "output_type": "stream",
          "text": [
            "training...: 100%|██████████| 753/753 [01:23<00:00,  9.04it/s]\n",
            "evaluating...: 100%|██████████| 251/251 [00:21<00:00, 11.42it/s]\n"
          ]
        },
        {
          "name": "stdout",
          "output_type": "stream",
          "text": [
            "Epoch: [29/50]\n",
            "Train Loss: 0.7220\tValid Loss: 0.8845\n"
          ]
        },
        {
          "name": "stderr",
          "output_type": "stream",
          "text": [
            "training...: 100%|██████████| 753/753 [01:23<00:00,  9.03it/s]\n",
            "evaluating...: 100%|██████████| 251/251 [00:21<00:00, 11.50it/s]\n"
          ]
        },
        {
          "name": "stdout",
          "output_type": "stream",
          "text": [
            "Epoch: [30/50]\n",
            "Train Loss: 0.7208\tValid Loss: 0.8857\n"
          ]
        },
        {
          "name": "stderr",
          "output_type": "stream",
          "text": [
            "training...: 100%|██████████| 753/753 [01:23<00:00,  9.04it/s]\n",
            "evaluating...: 100%|██████████| 251/251 [00:21<00:00, 11.44it/s]\n"
          ]
        },
        {
          "name": "stdout",
          "output_type": "stream",
          "text": [
            "Epoch: [31/50]\n",
            "Train Loss: 0.7199\tValid Loss: 0.8857\n"
          ]
        },
        {
          "name": "stderr",
          "output_type": "stream",
          "text": [
            "training...: 100%|██████████| 753/753 [01:22<00:00,  9.09it/s]\n",
            "evaluating...: 100%|██████████| 251/251 [00:21<00:00, 11.41it/s]\n"
          ]
        },
        {
          "name": "stdout",
          "output_type": "stream",
          "text": [
            "Epoch: [32/50]\n",
            "Train Loss: 0.7194\tValid Loss: 0.8852\n"
          ]
        },
        {
          "name": "stderr",
          "output_type": "stream",
          "text": [
            "training...: 100%|██████████| 753/753 [01:22<00:00,  9.09it/s]\n",
            "evaluating...: 100%|██████████| 251/251 [00:21<00:00, 11.57it/s]\n"
          ]
        },
        {
          "name": "stdout",
          "output_type": "stream",
          "text": [
            "Epoch: [33/50]\n",
            "Train Loss: 0.7185\tValid Loss: 0.8847\n"
          ]
        },
        {
          "name": "stderr",
          "output_type": "stream",
          "text": [
            "training...:  18%|█▊        | 134/753 [00:14<01:07,  9.20it/s]"
          ]
        }
      ],
      "source": [
        "results = graph_train(args, models, train_loader, valid_loader, optimizer, criterion)"
      ]
    },
    {
      "cell_type": "code",
      "execution_count": null,
      "metadata": {
        "colab": {
          "base_uri": "https://localhost:8080/"
        },
        "id": "0BN6gR6b2SrX",
        "outputId": "9d9e2cfe-a8e8-4686-c222-1fc06fe25718"
      },
      "outputs": [
        {
          "data": {
            "text/plain": [
              "['sm_37', 'sm_50', 'sm_60', 'sm_70', 'sm_75', 'sm_80', 'sm_86', 'sm_90']"
            ]
          },
          "execution_count": 20,
          "metadata": {},
          "output_type": "execute_result"
        }
      ],
      "source": [
        "torch.cuda.get_arch_list()"
      ]
    },
    {
      "cell_type": "code",
      "execution_count": null,
      "metadata": {
        "id": "ona8ELUg2SrX"
      },
      "outputs": [],
      "source": []
    },
    {
      "cell_type": "code",
      "execution_count": null,
      "metadata": {
        "id": "oZi5jqAm2SrX"
      },
      "outputs": [],
      "source": []
    }
  ],
  "metadata": {
    "accelerator": "GPU",
    "colab": {
      "provenance": []
    },
    "gpuClass": "standard",
    "kernelspec": {
      "display_name": "base",
      "language": "python",
      "name": "python3"
    },
    "language_info": {
      "codemirror_mode": {
        "name": "ipython",
        "version": 3
      },
      "file_extension": ".py",
      "mimetype": "text/x-python",
      "name": "python",
      "nbconvert_exporter": "python",
      "pygments_lexer": "ipython3",
      "version": "3.7.16"
    },
    "vscode": {
      "interpreter": {
        "hash": "d4d1e4263499bec80672ea0156c357c1ee493ec2b1c70f0acce89fc37c4a6abe"
      }
    }
  },
  "nbformat": 4,
  "nbformat_minor": 0
}